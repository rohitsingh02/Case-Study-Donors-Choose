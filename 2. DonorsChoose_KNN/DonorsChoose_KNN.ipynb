{
 "cells": [
  {
   "cell_type": "markdown",
   "metadata": {
    "colab_type": "text",
    "id": "-Ab-X-IrCyl0"
   },
   "source": [
    "# DonorsChoose"
   ]
  },
  {
   "cell_type": "markdown",
   "metadata": {
    "colab_type": "text",
    "id": "etNpzy7rCyl2"
   },
   "source": [
    "<p>\n",
    "DonorsChoose.org receives hundreds of thousands of project proposals each year for classroom projects in need of funding. Right now, a large number of volunteers is needed to manually screen each submission before it's approved to be posted on the DonorsChoose.org website.\n",
    "</p>\n",
    "<p>\n",
    "    Next year, DonorsChoose.org expects to receive close to 500,000 project proposals. As a result, there are three main problems they need to solve:\n",
    "<ul>\n",
    "<li>\n",
    "    How to scale current manual processes and resources to screen 500,000 projects so that they can be posted as quickly and as efficiently as possible</li>\n",
    "    <li>How to increase the consistency of project vetting across different volunteers to improve the experience for teachers</li>\n",
    "    <li>How to focus volunteer time on the applications that need the most assistance</li>\n",
    "    </ul>\n",
    "</p>    \n",
    "<p>\n",
    "The goal of the competition is to predict whether or not a DonorsChoose.org project proposal submitted by a teacher will be approved, using the text of project descriptions as well as additional metadata about the project, teacher, and school. DonorsChoose.org can then use this information to identify projects most likely to need further review before approval.\n",
    "</p>"
   ]
  },
  {
   "cell_type": "markdown",
   "metadata": {
    "colab_type": "text",
    "id": "kO2Kg7TgCyl4"
   },
   "source": [
    "## About the DonorsChoose Data Set\n",
    "\n",
    "The `train.csv` data set provided by DonorsChoose contains the following features:\n",
    "\n",
    "Feature | Description \n",
    "----------|---------------\n",
    "**`project_id`** | A unique identifier for the proposed project. **Example:** `p036502`   \n",
    "**`project_title`**    | Title of the project. **Examples:**<br><ul><li><code>Art Will Make You Happy!</code></li><li><code>First Grade Fun</code></li></ul> \n",
    "**`project_grade_category`** | Grade level of students for which the project is targeted. One of the following enumerated values: <br/><ul><li><code>Grades PreK-2</code></li><li><code>Grades 3-5</code></li><li><code>Grades 6-8</code></li><li><code>Grades 9-12</code></li></ul>  \n",
    " **`project_subject_categories`** | One or more (comma-separated) subject categories for the project from the following enumerated list of values:  <br/><ul><li><code>Applied Learning</code></li><li><code>Care &amp; Hunger</code></li><li><code>Health &amp; Sports</code></li><li><code>History &amp; Civics</code></li><li><code>Literacy &amp; Language</code></li><li><code>Math &amp; Science</code></li><li><code>Music &amp; The Arts</code></li><li><code>Special Needs</code></li><li><code>Warmth</code></li></ul><br/> **Examples:** <br/><ul><li><code>Music &amp; The Arts</code></li><li><code>Literacy &amp; Language, Math &amp; Science</code></li>  \n",
    "  **`school_state`** | State where school is located ([Two-letter U.S. postal code](https://en.wikipedia.org/wiki/List_of_U.S._state_abbreviations#Postal_codes)). **Example:** `WY`\n",
    "**`project_subject_subcategories`** | One or more (comma-separated) subject subcategories for the project. **Examples:** <br/><ul><li><code>Literacy</code></li><li><code>Literature &amp; Writing, Social Sciences</code></li></ul> \n",
    "**`project_resource_summary`** | An explanation of the resources needed for the project. **Example:** <br/><ul><li><code>My students need hands on literacy materials to manage sensory needs!</code</li></ul> \n",
    "**`project_essay_1`**    | First application essay<sup>*</sup>  \n",
    "**`project_essay_2`**    | Second application essay<sup>*</sup> \n",
    "**`project_essay_3`**    | Third application essay<sup>*</sup> \n",
    "**`project_essay_4`**    | Fourth application essay<sup>*</sup> \n",
    "**`project_submitted_datetime`** | Datetime when project application was submitted. **Example:** `2016-04-28 12:43:56.245`   \n",
    "**`teacher_id`** | A unique identifier for the teacher of the proposed project. **Example:** `bdf8baa8fedef6bfeec7ae4ff1c15c56`  \n",
    "**`teacher_prefix`** | Teacher's title. One of the following enumerated values: <br/><ul><li><code>nan</code></li><li><code>Dr.</code></li><li><code>Mr.</code></li><li><code>Mrs.</code></li><li><code>Ms.</code></li><li><code>Teacher.</code></li></ul>  \n",
    "**`teacher_number_of_previously_posted_projects`** | Number of project applications previously submitted by the same teacher. **Example:** `2` \n",
    "\n",
    "<sup>*</sup> See the section <b>Notes on the Essay Data</b> for more details about these features.\n",
    "\n",
    "Additionally, the `resources.csv` data set provides more data about the resources required for each project. Each line in this file represents a resource required by a project:\n",
    "\n",
    "Feature | Description \n",
    "----------|---------------\n",
    "**`id`** | A `project_id` value from the `train.csv` file.  **Example:** `p036502`   \n",
    "**`description`** | Desciption of the resource. **Example:** `Tenor Saxophone Reeds, Box of 25`   \n",
    "**`quantity`** | Quantity of the resource required. **Example:** `3`   \n",
    "**`price`** | Price of the resource required. **Example:** `9.95`   \n",
    "\n",
    "**Note:** Many projects require multiple resources. The `id` value corresponds to a `project_id` in train.csv, so you use it as a key to retrieve all resources needed for a project:\n",
    "\n",
    "The data set contains the following label (the value you will attempt to predict):\n",
    "\n",
    "Label | Description\n",
    "----------|---------------\n",
    "`project_is_approved` | A binary flag indicating whether DonorsChoose approved the project. A value of `0` indicates the project was not approved, and a value of `1` indicates the project was approved."
   ]
  },
  {
   "cell_type": "markdown",
   "metadata": {
    "colab_type": "text",
    "id": "dBGA_YStCyl6"
   },
   "source": [
    "### Notes on the Essay Data\n",
    "\n",
    "<ul>\n",
    "Prior to May 17, 2016, the prompts for the essays were as follows:\n",
    "<li>__project_essay_1:__ \"Introduce us to your classroom\"</li>\n",
    "<li>__project_essay_2:__ \"Tell us more about your students\"</li>\n",
    "<li>__project_essay_3:__ \"Describe how your students will use the materials you're requesting\"</li>\n",
    "<li>__project_essay_3:__ \"Close by sharing why your project will make a difference\"</li>\n",
    "</ul>\n",
    "\n",
    "\n",
    "<ul>\n",
    "Starting on May 17, 2016, the number of essays was reduced from 4 to 2, and the prompts for the first 2 essays were changed to the following:<br>\n",
    "<li>__project_essay_1:__ \"Describe your students: What makes your students special? Specific details about their background, your neighborhood, and your school are all helpful.\"</li>\n",
    "<li>__project_essay_2:__ \"About your project: How will these materials make a difference in your students' learning and improve their school lives?\"</li>\n",
    "<br>For all projects with project_submitted_datetime of 2016-05-17 and later, the values of project_essay_3 and project_essay_4 will be NaN.\n",
    "</ul>\n"
   ]
  },
  {
   "cell_type": "code",
   "execution_count": 1,
   "metadata": {
    "colab": {},
    "colab_type": "code",
    "id": "XTrCJ5p9Cyl7",
    "outputId": "06c35f2f-d281-4345-9668-f8f44b28d6ac"
   },
   "outputs": [],
   "source": [
    "%matplotlib inline\n",
    "import warnings\n",
    "warnings.filterwarnings(\"ignore\")\n",
    "\n",
    "import sqlite3\n",
    "import pandas as pd\n",
    "import numpy as np\n",
    "import nltk\n",
    "import string\n",
    "import matplotlib.pyplot as plt\n",
    "import seaborn as sns\n",
    "from sklearn.feature_extraction.text import TfidfTransformer\n",
    "from sklearn.feature_extraction.text import TfidfVectorizer\n",
    "\n",
    "from sklearn.feature_extraction.text import CountVectorizer\n",
    "from sklearn.model_selection import train_test_split\n",
    "from sklearn.metrics import confusion_matrix\n",
    "from sklearn import metrics\n",
    "from sklearn.metrics import roc_curve, auc\n",
    "from nltk.stem.porter import PorterStemmer\n",
    "\n",
    "import re\n",
    "# Tutorial about Python regular expressions: https://pymotw.com/2/re/\n",
    "import string\n",
    "from nltk.corpus import stopwords\n",
    "from nltk.stem import PorterStemmer\n",
    "from nltk.stem.wordnet import WordNetLemmatizer\n",
    "\n",
    "from gensim.models import Word2Vec\n",
    "from gensim.models import KeyedVectors\n",
    "import pickle\n",
    "\n",
    "from tqdm import tqdm\n",
    "import os\n",
    "\n",
    "from collections import Counter\n",
    "\n",
    "# suppress warnings\n",
    "warnings.filterwarnings(\"ignore\")"
   ]
  },
  {
   "cell_type": "markdown",
   "metadata": {
    "colab_type": "text",
    "id": "MjknLZQqCymQ"
   },
   "source": [
    "## 1.1 Reading Data"
   ]
  },
  {
   "cell_type": "code",
   "execution_count": 7,
   "metadata": {
    "colab": {},
    "colab_type": "code",
    "id": "abtcqBS8CymT"
   },
   "outputs": [
    {
     "data": {
      "text/html": [
       "<div>\n",
       "<style scoped>\n",
       "    .dataframe tbody tr th:only-of-type {\n",
       "        vertical-align: middle;\n",
       "    }\n",
       "\n",
       "    .dataframe tbody tr th {\n",
       "        vertical-align: top;\n",
       "    }\n",
       "\n",
       "    .dataframe thead th {\n",
       "        text-align: right;\n",
       "    }\n",
       "</style>\n",
       "<table border=\"1\" class=\"dataframe\">\n",
       "  <thead>\n",
       "    <tr style=\"text-align: right;\">\n",
       "      <th></th>\n",
       "      <th>Unnamed: 0</th>\n",
       "      <th>id</th>\n",
       "      <th>teacher_id</th>\n",
       "      <th>teacher_prefix</th>\n",
       "      <th>school_state</th>\n",
       "      <th>project_submitted_datetime</th>\n",
       "      <th>project_grade_category</th>\n",
       "      <th>project_subject_categories</th>\n",
       "      <th>project_subject_subcategories</th>\n",
       "      <th>project_title</th>\n",
       "      <th>project_essay_1</th>\n",
       "      <th>project_essay_2</th>\n",
       "      <th>project_essay_3</th>\n",
       "      <th>project_essay_4</th>\n",
       "      <th>project_resource_summary</th>\n",
       "      <th>teacher_number_of_previously_posted_projects</th>\n",
       "      <th>project_is_approved</th>\n",
       "    </tr>\n",
       "  </thead>\n",
       "  <tbody>\n",
       "    <tr>\n",
       "      <th>0</th>\n",
       "      <td>160221</td>\n",
       "      <td>p253737</td>\n",
       "      <td>c90749f5d961ff158d4b4d1e7dc665fc</td>\n",
       "      <td>Mrs.</td>\n",
       "      <td>IN</td>\n",
       "      <td>2016-12-05 13:43:57</td>\n",
       "      <td>Grades PreK-2</td>\n",
       "      <td>Literacy &amp; Language</td>\n",
       "      <td>ESL, Literacy</td>\n",
       "      <td>Educational Support for English Learners at Home</td>\n",
       "      <td>My students are English learners that are work...</td>\n",
       "      <td>\\\"The limits of your language are the limits o...</td>\n",
       "      <td>NaN</td>\n",
       "      <td>NaN</td>\n",
       "      <td>My students need opportunities to practice beg...</td>\n",
       "      <td>0</td>\n",
       "      <td>0</td>\n",
       "    </tr>\n",
       "    <tr>\n",
       "      <th>1</th>\n",
       "      <td>140945</td>\n",
       "      <td>p258326</td>\n",
       "      <td>897464ce9ddc600bced1151f324dd63a</td>\n",
       "      <td>Mr.</td>\n",
       "      <td>FL</td>\n",
       "      <td>2016-10-25 09:22:10</td>\n",
       "      <td>Grades 6-8</td>\n",
       "      <td>History &amp; Civics, Health &amp; Sports</td>\n",
       "      <td>Civics &amp; Government, Team Sports</td>\n",
       "      <td>Wanted: Projector for Hungry Learners</td>\n",
       "      <td>Our students arrive to our school eager to lea...</td>\n",
       "      <td>The projector we need for our school is very c...</td>\n",
       "      <td>NaN</td>\n",
       "      <td>NaN</td>\n",
       "      <td>My students need a projector to help with view...</td>\n",
       "      <td>7</td>\n",
       "      <td>1</td>\n",
       "    </tr>\n",
       "    <tr>\n",
       "      <th>2</th>\n",
       "      <td>21895</td>\n",
       "      <td>p182444</td>\n",
       "      <td>3465aaf82da834c0582ebd0ef8040ca0</td>\n",
       "      <td>Ms.</td>\n",
       "      <td>AZ</td>\n",
       "      <td>2016-08-31 12:03:56</td>\n",
       "      <td>Grades 6-8</td>\n",
       "      <td>Health &amp; Sports</td>\n",
       "      <td>Health &amp; Wellness, Team Sports</td>\n",
       "      <td>Soccer Equipment for AWESOME Middle School Stu...</td>\n",
       "      <td>\\r\\n\\\"True champions aren't always the ones th...</td>\n",
       "      <td>The students on the campus come to school know...</td>\n",
       "      <td>NaN</td>\n",
       "      <td>NaN</td>\n",
       "      <td>My students need shine guards, athletic socks,...</td>\n",
       "      <td>1</td>\n",
       "      <td>0</td>\n",
       "    </tr>\n",
       "  </tbody>\n",
       "</table>\n",
       "</div>"
      ],
      "text/plain": [
       "   Unnamed: 0       id                        teacher_id teacher_prefix  \\\n",
       "0      160221  p253737  c90749f5d961ff158d4b4d1e7dc665fc           Mrs.   \n",
       "1      140945  p258326  897464ce9ddc600bced1151f324dd63a            Mr.   \n",
       "2       21895  p182444  3465aaf82da834c0582ebd0ef8040ca0            Ms.   \n",
       "\n",
       "  school_state project_submitted_datetime project_grade_category  \\\n",
       "0           IN        2016-12-05 13:43:57          Grades PreK-2   \n",
       "1           FL        2016-10-25 09:22:10             Grades 6-8   \n",
       "2           AZ        2016-08-31 12:03:56             Grades 6-8   \n",
       "\n",
       "          project_subject_categories     project_subject_subcategories  \\\n",
       "0                Literacy & Language                     ESL, Literacy   \n",
       "1  History & Civics, Health & Sports  Civics & Government, Team Sports   \n",
       "2                    Health & Sports    Health & Wellness, Team Sports   \n",
       "\n",
       "                                       project_title  \\\n",
       "0   Educational Support for English Learners at Home   \n",
       "1              Wanted: Projector for Hungry Learners   \n",
       "2  Soccer Equipment for AWESOME Middle School Stu...   \n",
       "\n",
       "                                     project_essay_1  \\\n",
       "0  My students are English learners that are work...   \n",
       "1  Our students arrive to our school eager to lea...   \n",
       "2  \\r\\n\\\"True champions aren't always the ones th...   \n",
       "\n",
       "                                     project_essay_2 project_essay_3  \\\n",
       "0  \\\"The limits of your language are the limits o...             NaN   \n",
       "1  The projector we need for our school is very c...             NaN   \n",
       "2  The students on the campus come to school know...             NaN   \n",
       "\n",
       "  project_essay_4                           project_resource_summary  \\\n",
       "0             NaN  My students need opportunities to practice beg...   \n",
       "1             NaN  My students need a projector to help with view...   \n",
       "2             NaN  My students need shine guards, athletic socks,...   \n",
       "\n",
       "   teacher_number_of_previously_posted_projects  project_is_approved  \n",
       "0                                             0                    0  \n",
       "1                                             7                    1  \n",
       "2                                             1                    0  "
      ]
     },
     "execution_count": 7,
     "metadata": {},
     "output_type": "execute_result"
    }
   ],
   "source": [
    "project_data = pd.read_csv('../resources/train_data.csv')\n",
    "resource_data = pd.read_csv('../resources/resources.csv')\n",
    "project_data.head(3)"
   ]
  },
  {
   "cell_type": "code",
   "execution_count": 8,
   "metadata": {
    "colab": {},
    "colab_type": "code",
    "id": "Prf2ghjDCymX",
    "outputId": "226c1b3c-35c9-48bd-afc9-7a819c871e8d"
   },
   "outputs": [
    {
     "name": "stdout",
     "output_type": "stream",
     "text": [
      "Number of data points in project data frame (109248, 17)\n",
      "--------------------------------------------------\n",
      "The attributes of data : ['Unnamed: 0' 'id' 'teacher_id' 'teacher_prefix' 'school_state'\n",
      " 'project_submitted_datetime' 'project_grade_category'\n",
      " 'project_subject_categories' 'project_subject_subcategories'\n",
      " 'project_title' 'project_essay_1' 'project_essay_2' 'project_essay_3'\n",
      " 'project_essay_4' 'project_resource_summary'\n",
      " 'teacher_number_of_previously_posted_projects' 'project_is_approved']\n"
     ]
    }
   ],
   "source": [
    "print(\"Number of data points in project data frame\", project_data.shape)\n",
    "print('-'*50)\n",
    "print(\"The attributes of data :\", project_data.columns.values)"
   ]
  },
  {
   "cell_type": "code",
   "execution_count": 9,
   "metadata": {
    "colab": {},
    "colab_type": "code",
    "id": "BTGMDQoPCymc",
    "outputId": "5b3c47b3-d5d0-416b-b512-a59b77f60f0b"
   },
   "outputs": [],
   "source": [
    "# how to replace elements in list python: https://stackoverflow.com/a/2582163/4084039\n",
    "cols = ['Date' if x=='project_submitted_datetime' else x for x in list(project_data.columns)]\n",
    "\n",
    "#sort dataframe based on time pandas python: https://stackoverflow.com/a/49702492/4084039\n",
    "project_data['Date'] = pd.to_datetime(project_data['project_submitted_datetime'])\n",
    "project_data.drop('project_submitted_datetime', axis=1, inplace=True)\n",
    "project_data.sort_values(by=['Date'], inplace=True)\n",
    "\n",
    "# how to reorder columns pandas python: https://stackoverflow.com/a/13148611/4084039\n",
    "project_data = project_data[cols]"
   ]
  },
  {
   "cell_type": "code",
   "execution_count": 10,
   "metadata": {
    "colab": {},
    "colab_type": "code",
    "id": "ntdWuRoUCymj",
    "outputId": "7f1911f2-61b8-4069-bfb0-9fdfeb2419e3"
   },
   "outputs": [
    {
     "name": "stdout",
     "output_type": "stream",
     "text": [
      "Number of data points in our resource data frame (1541272, 4)\n",
      "['id' 'description' 'quantity' 'price']\n"
     ]
    },
    {
     "data": {
      "text/html": [
       "<div>\n",
       "<style scoped>\n",
       "    .dataframe tbody tr th:only-of-type {\n",
       "        vertical-align: middle;\n",
       "    }\n",
       "\n",
       "    .dataframe tbody tr th {\n",
       "        vertical-align: top;\n",
       "    }\n",
       "\n",
       "    .dataframe thead th {\n",
       "        text-align: right;\n",
       "    }\n",
       "</style>\n",
       "<table border=\"1\" class=\"dataframe\">\n",
       "  <thead>\n",
       "    <tr style=\"text-align: right;\">\n",
       "      <th></th>\n",
       "      <th>id</th>\n",
       "      <th>description</th>\n",
       "      <th>quantity</th>\n",
       "      <th>price</th>\n",
       "    </tr>\n",
       "  </thead>\n",
       "  <tbody>\n",
       "    <tr>\n",
       "      <th>0</th>\n",
       "      <td>p233245</td>\n",
       "      <td>LC652 - Lakeshore Double-Space Mobile Drying Rack</td>\n",
       "      <td>1</td>\n",
       "      <td>149.00</td>\n",
       "    </tr>\n",
       "    <tr>\n",
       "      <th>1</th>\n",
       "      <td>p069063</td>\n",
       "      <td>Bouncy Bands for Desks (Blue support pipes)</td>\n",
       "      <td>3</td>\n",
       "      <td>14.95</td>\n",
       "    </tr>\n",
       "  </tbody>\n",
       "</table>\n",
       "</div>"
      ],
      "text/plain": [
       "        id                                        description  quantity  \\\n",
       "0  p233245  LC652 - Lakeshore Double-Space Mobile Drying Rack         1   \n",
       "1  p069063        Bouncy Bands for Desks (Blue support pipes)         3   \n",
       "\n",
       "    price  \n",
       "0  149.00  \n",
       "1   14.95  "
      ]
     },
     "execution_count": 10,
     "metadata": {},
     "output_type": "execute_result"
    }
   ],
   "source": [
    "print(\"Number of data points in our resource data frame\", resource_data.shape)\n",
    "print(resource_data.columns.values)\n",
    "resource_data.head(2)"
   ]
  },
  {
   "cell_type": "code",
   "execution_count": 11,
   "metadata": {},
   "outputs": [
    {
     "data": {
      "text/html": [
       "<div>\n",
       "<style scoped>\n",
       "    .dataframe tbody tr th:only-of-type {\n",
       "        vertical-align: middle;\n",
       "    }\n",
       "\n",
       "    .dataframe tbody tr th {\n",
       "        vertical-align: top;\n",
       "    }\n",
       "\n",
       "    .dataframe thead th {\n",
       "        text-align: right;\n",
       "    }\n",
       "</style>\n",
       "<table border=\"1\" class=\"dataframe\">\n",
       "  <thead>\n",
       "    <tr style=\"text-align: right;\">\n",
       "      <th></th>\n",
       "      <th>id</th>\n",
       "      <th>price</th>\n",
       "      <th>quantity</th>\n",
       "    </tr>\n",
       "  </thead>\n",
       "  <tbody>\n",
       "    <tr>\n",
       "      <th>0</th>\n",
       "      <td>p000001</td>\n",
       "      <td>459.56</td>\n",
       "      <td>7</td>\n",
       "    </tr>\n",
       "    <tr>\n",
       "      <th>1</th>\n",
       "      <td>p000002</td>\n",
       "      <td>515.89</td>\n",
       "      <td>21</td>\n",
       "    </tr>\n",
       "  </tbody>\n",
       "</table>\n",
       "</div>"
      ],
      "text/plain": [
       "        id   price  quantity\n",
       "0  p000001  459.56         7\n",
       "1  p000002  515.89        21"
      ]
     },
     "execution_count": 11,
     "metadata": {},
     "output_type": "execute_result"
    }
   ],
   "source": [
    "# https://stackoverflow.com/questions/22407798/how-to-reset-a-dataframes-indexes-for-all-groups-in-one-step\n",
    "price_data = resource_data.groupby('id').agg({'price':'sum', 'quantity':'sum'}).reset_index()\n",
    "price_data.head(2)"
   ]
  },
  {
   "cell_type": "code",
   "execution_count": 12,
   "metadata": {},
   "outputs": [
    {
     "data": {
      "text/html": [
       "<div>\n",
       "<style scoped>\n",
       "    .dataframe tbody tr th:only-of-type {\n",
       "        vertical-align: middle;\n",
       "    }\n",
       "\n",
       "    .dataframe tbody tr th {\n",
       "        vertical-align: top;\n",
       "    }\n",
       "\n",
       "    .dataframe thead th {\n",
       "        text-align: right;\n",
       "    }\n",
       "</style>\n",
       "<table border=\"1\" class=\"dataframe\">\n",
       "  <thead>\n",
       "    <tr style=\"text-align: right;\">\n",
       "      <th></th>\n",
       "      <th>Unnamed: 0</th>\n",
       "      <th>id</th>\n",
       "      <th>teacher_id</th>\n",
       "      <th>teacher_prefix</th>\n",
       "      <th>school_state</th>\n",
       "      <th>Date</th>\n",
       "      <th>project_grade_category</th>\n",
       "      <th>project_subject_categories</th>\n",
       "      <th>project_subject_subcategories</th>\n",
       "      <th>project_title</th>\n",
       "      <th>project_essay_1</th>\n",
       "      <th>project_essay_2</th>\n",
       "      <th>project_essay_3</th>\n",
       "      <th>project_essay_4</th>\n",
       "      <th>project_resource_summary</th>\n",
       "      <th>teacher_number_of_previously_posted_projects</th>\n",
       "      <th>project_is_approved</th>\n",
       "      <th>price</th>\n",
       "      <th>quantity</th>\n",
       "    </tr>\n",
       "  </thead>\n",
       "  <tbody>\n",
       "    <tr>\n",
       "      <th>0</th>\n",
       "      <td>8393</td>\n",
       "      <td>p205479</td>\n",
       "      <td>2bf07ba08945e5d8b2a3f269b2b3cfe5</td>\n",
       "      <td>Mrs.</td>\n",
       "      <td>CA</td>\n",
       "      <td>2016-04-27 00:27:36</td>\n",
       "      <td>Grades PreK-2</td>\n",
       "      <td>Math &amp; Science</td>\n",
       "      <td>Applied Sciences, Health &amp; Life Science</td>\n",
       "      <td>Engineering STEAM into the Primary Classroom</td>\n",
       "      <td>I have been fortunate enough to use the Fairy ...</td>\n",
       "      <td>My students come from a variety of backgrounds...</td>\n",
       "      <td>Each month I try to do several science or STEM...</td>\n",
       "      <td>It is challenging to develop high quality scie...</td>\n",
       "      <td>My students need STEM kits to learn critical s...</td>\n",
       "      <td>53</td>\n",
       "      <td>1</td>\n",
       "      <td>725.05</td>\n",
       "      <td>4</td>\n",
       "    </tr>\n",
       "    <tr>\n",
       "      <th>1</th>\n",
       "      <td>37728</td>\n",
       "      <td>p043609</td>\n",
       "      <td>3f60494c61921b3b43ab61bdde2904df</td>\n",
       "      <td>Ms.</td>\n",
       "      <td>UT</td>\n",
       "      <td>2016-04-27 00:31:25</td>\n",
       "      <td>Grades 3-5</td>\n",
       "      <td>Special Needs</td>\n",
       "      <td>Special Needs</td>\n",
       "      <td>Sensory Tools for Focus</td>\n",
       "      <td>Imagine being 8-9 years old. You're in your th...</td>\n",
       "      <td>Most of my students have autism, anxiety, anot...</td>\n",
       "      <td>It is tough to do more than one thing at a tim...</td>\n",
       "      <td>When my students are able to calm themselves d...</td>\n",
       "      <td>My students need Boogie Boards for quiet senso...</td>\n",
       "      <td>4</td>\n",
       "      <td>1</td>\n",
       "      <td>213.03</td>\n",
       "      <td>8</td>\n",
       "    </tr>\n",
       "    <tr>\n",
       "      <th>2</th>\n",
       "      <td>74477</td>\n",
       "      <td>p189804</td>\n",
       "      <td>4a97f3a390bfe21b99cf5e2b81981c73</td>\n",
       "      <td>Mrs.</td>\n",
       "      <td>CA</td>\n",
       "      <td>2016-04-27 00:46:53</td>\n",
       "      <td>Grades PreK-2</td>\n",
       "      <td>Literacy &amp; Language</td>\n",
       "      <td>Literacy</td>\n",
       "      <td>Mobile Learning with a Mobile Listening Center</td>\n",
       "      <td>Having a class of 24 students comes with diver...</td>\n",
       "      <td>I have a class of twenty-four kindergarten stu...</td>\n",
       "      <td>By having a mobile listening and storage cente...</td>\n",
       "      <td>A mobile listening center will help keep equip...</td>\n",
       "      <td>My students need a mobile listening center to ...</td>\n",
       "      <td>10</td>\n",
       "      <td>1</td>\n",
       "      <td>329.00</td>\n",
       "      <td>1</td>\n",
       "    </tr>\n",
       "    <tr>\n",
       "      <th>3</th>\n",
       "      <td>100660</td>\n",
       "      <td>p234804</td>\n",
       "      <td>cbc0e38f522143b86d372f8b43d4cff3</td>\n",
       "      <td>Mrs.</td>\n",
       "      <td>GA</td>\n",
       "      <td>2016-04-27 00:53:00</td>\n",
       "      <td>Grades PreK-2</td>\n",
       "      <td>Applied Learning</td>\n",
       "      <td>Early Development</td>\n",
       "      <td>Flexible Seating for Flexible Learning</td>\n",
       "      <td>I recently read an article about giving studen...</td>\n",
       "      <td>I teach at a low-income (Title 1) school. Ever...</td>\n",
       "      <td>We need a classroom rug that we can use as a c...</td>\n",
       "      <td>Benjamin Franklin once said, \\\"Tell me and I f...</td>\n",
       "      <td>My students need flexible seating in the class...</td>\n",
       "      <td>2</td>\n",
       "      <td>1</td>\n",
       "      <td>481.04</td>\n",
       "      <td>9</td>\n",
       "    </tr>\n",
       "    <tr>\n",
       "      <th>4</th>\n",
       "      <td>33679</td>\n",
       "      <td>p137682</td>\n",
       "      <td>06f6e62e17de34fcf81020c77549e1d5</td>\n",
       "      <td>Mrs.</td>\n",
       "      <td>WA</td>\n",
       "      <td>2016-04-27 01:05:25</td>\n",
       "      <td>Grades 3-5</td>\n",
       "      <td>Literacy &amp; Language</td>\n",
       "      <td>Literacy</td>\n",
       "      <td>Going Deep: The Art of Inner Thinking!</td>\n",
       "      <td>My students crave challenge, they eat obstacle...</td>\n",
       "      <td>We are an urban, public k-5 elementary school....</td>\n",
       "      <td>With the new common core standards that have b...</td>\n",
       "      <td>These remarkable gifts will provide students w...</td>\n",
       "      <td>My students need copies of the New York Times ...</td>\n",
       "      <td>2</td>\n",
       "      <td>1</td>\n",
       "      <td>17.74</td>\n",
       "      <td>14</td>\n",
       "    </tr>\n",
       "  </tbody>\n",
       "</table>\n",
       "</div>"
      ],
      "text/plain": [
       "   Unnamed: 0       id                        teacher_id teacher_prefix  \\\n",
       "0        8393  p205479  2bf07ba08945e5d8b2a3f269b2b3cfe5           Mrs.   \n",
       "1       37728  p043609  3f60494c61921b3b43ab61bdde2904df            Ms.   \n",
       "2       74477  p189804  4a97f3a390bfe21b99cf5e2b81981c73           Mrs.   \n",
       "3      100660  p234804  cbc0e38f522143b86d372f8b43d4cff3           Mrs.   \n",
       "4       33679  p137682  06f6e62e17de34fcf81020c77549e1d5           Mrs.   \n",
       "\n",
       "  school_state                Date project_grade_category  \\\n",
       "0           CA 2016-04-27 00:27:36          Grades PreK-2   \n",
       "1           UT 2016-04-27 00:31:25             Grades 3-5   \n",
       "2           CA 2016-04-27 00:46:53          Grades PreK-2   \n",
       "3           GA 2016-04-27 00:53:00          Grades PreK-2   \n",
       "4           WA 2016-04-27 01:05:25             Grades 3-5   \n",
       "\n",
       "  project_subject_categories            project_subject_subcategories  \\\n",
       "0             Math & Science  Applied Sciences, Health & Life Science   \n",
       "1              Special Needs                            Special Needs   \n",
       "2        Literacy & Language                                 Literacy   \n",
       "3           Applied Learning                        Early Development   \n",
       "4        Literacy & Language                                 Literacy   \n",
       "\n",
       "                                    project_title  \\\n",
       "0    Engineering STEAM into the Primary Classroom   \n",
       "1                         Sensory Tools for Focus   \n",
       "2  Mobile Learning with a Mobile Listening Center   \n",
       "3          Flexible Seating for Flexible Learning   \n",
       "4          Going Deep: The Art of Inner Thinking!   \n",
       "\n",
       "                                     project_essay_1  \\\n",
       "0  I have been fortunate enough to use the Fairy ...   \n",
       "1  Imagine being 8-9 years old. You're in your th...   \n",
       "2  Having a class of 24 students comes with diver...   \n",
       "3  I recently read an article about giving studen...   \n",
       "4  My students crave challenge, they eat obstacle...   \n",
       "\n",
       "                                     project_essay_2  \\\n",
       "0  My students come from a variety of backgrounds...   \n",
       "1  Most of my students have autism, anxiety, anot...   \n",
       "2  I have a class of twenty-four kindergarten stu...   \n",
       "3  I teach at a low-income (Title 1) school. Ever...   \n",
       "4  We are an urban, public k-5 elementary school....   \n",
       "\n",
       "                                     project_essay_3  \\\n",
       "0  Each month I try to do several science or STEM...   \n",
       "1  It is tough to do more than one thing at a tim...   \n",
       "2  By having a mobile listening and storage cente...   \n",
       "3  We need a classroom rug that we can use as a c...   \n",
       "4  With the new common core standards that have b...   \n",
       "\n",
       "                                     project_essay_4  \\\n",
       "0  It is challenging to develop high quality scie...   \n",
       "1  When my students are able to calm themselves d...   \n",
       "2  A mobile listening center will help keep equip...   \n",
       "3  Benjamin Franklin once said, \\\"Tell me and I f...   \n",
       "4  These remarkable gifts will provide students w...   \n",
       "\n",
       "                            project_resource_summary  \\\n",
       "0  My students need STEM kits to learn critical s...   \n",
       "1  My students need Boogie Boards for quiet senso...   \n",
       "2  My students need a mobile listening center to ...   \n",
       "3  My students need flexible seating in the class...   \n",
       "4  My students need copies of the New York Times ...   \n",
       "\n",
       "   teacher_number_of_previously_posted_projects  project_is_approved   price  \\\n",
       "0                                            53                    1  725.05   \n",
       "1                                             4                    1  213.03   \n",
       "2                                            10                    1  329.00   \n",
       "3                                             2                    1  481.04   \n",
       "4                                             2                    1   17.74   \n",
       "\n",
       "   quantity  \n",
       "0         4  \n",
       "1         8  \n",
       "2         1  \n",
       "3         9  \n",
       "4        14  "
      ]
     },
     "execution_count": 12,
     "metadata": {},
     "output_type": "execute_result"
    }
   ],
   "source": [
    "# join two dataframes in python: \n",
    "project_data = pd.merge(project_data, price_data, on='id', how='left')\n",
    "project_data.head(5)"
   ]
  },
  {
   "cell_type": "code",
   "execution_count": 13,
   "metadata": {},
   "outputs": [
    {
     "name": "stdout",
     "output_type": "stream",
     "text": [
      "Number of data points in project data after merging price and quantity (109248, 19)\n",
      "['Unnamed: 0' 'id' 'teacher_id' 'teacher_prefix' 'school_state' 'Date'\n",
      " 'project_grade_category' 'project_subject_categories'\n",
      " 'project_subject_subcategories' 'project_title' 'project_essay_1'\n",
      " 'project_essay_2' 'project_essay_3' 'project_essay_4'\n",
      " 'project_resource_summary' 'teacher_number_of_previously_posted_projects'\n",
      " 'project_is_approved' 'price' 'quantity']\n"
     ]
    }
   ],
   "source": [
    "print(\"Number of data points in project data after merging price and quantity\", project_data.shape)\n",
    "print(project_data.columns.values)"
   ]
  },
  {
   "cell_type": "code",
   "execution_count": 14,
   "metadata": {},
   "outputs": [
    {
     "name": "stdout",
     "output_type": "stream",
     "text": [
      "<class 'pandas.core.frame.DataFrame'>\n",
      "Int64Index: 109248 entries, 0 to 109247\n",
      "Data columns (total 19 columns):\n",
      "Unnamed: 0                                      109248 non-null int64\n",
      "id                                              109248 non-null object\n",
      "teacher_id                                      109248 non-null object\n",
      "teacher_prefix                                  109245 non-null object\n",
      "school_state                                    109248 non-null object\n",
      "Date                                            109248 non-null datetime64[ns]\n",
      "project_grade_category                          109248 non-null object\n",
      "project_subject_categories                      109248 non-null object\n",
      "project_subject_subcategories                   109248 non-null object\n",
      "project_title                                   109248 non-null object\n",
      "project_essay_1                                 109248 non-null object\n",
      "project_essay_2                                 109248 non-null object\n",
      "project_essay_3                                 3758 non-null object\n",
      "project_essay_4                                 3758 non-null object\n",
      "project_resource_summary                        109248 non-null object\n",
      "teacher_number_of_previously_posted_projects    109248 non-null int64\n",
      "project_is_approved                             109248 non-null int64\n",
      "price                                           109248 non-null float64\n",
      "quantity                                        109248 non-null int64\n",
      "dtypes: datetime64[ns](1), float64(1), int64(4), object(13)\n",
      "memory usage: 16.7+ MB\n"
     ]
    }
   ],
   "source": [
    "project_data.info()"
   ]
  },
  {
   "cell_type": "markdown",
   "metadata": {},
   "source": [
    "## 1.1.1 Handling Null Values"
   ]
  },
  {
   "cell_type": "code",
   "execution_count": 15,
   "metadata": {},
   "outputs": [],
   "source": [
    "# from above matric I know that teacher_prefix has 3 null values we need to handle that\n",
    "# also most of values of project_essay_3 and project_essay_4 are null\n",
    "\n",
    "project_data[\"teacher_prefix\"].fillna( value = 'Mrs.', inplace = True) "
   ]
  },
  {
   "cell_type": "code",
   "execution_count": 16,
   "metadata": {},
   "outputs": [],
   "source": [
    "## 1.5 Combining 4 essay columns to get a single Essay column\n",
    "\n",
    "project_data[\"essay\"] = project_data[\"project_essay_1\"].map(str) +\\\n",
    "                        project_data[\"project_essay_2\"].map(str) + \\\n",
    "                        project_data[\"project_essay_3\"].map(str) + \\\n",
    "                        project_data[\"project_essay_4\"].map(str)\n",
    "\n",
    "project_data.drop(['project_essay_1','project_essay_2','project_essay_3','project_essay_4'], axis=1, inplace=True)\n",
    "# project_data['essay'].head()"
   ]
  },
  {
   "cell_type": "code",
   "execution_count": 17,
   "metadata": {},
   "outputs": [
    {
     "name": "stdout",
     "output_type": "stream",
     "text": [
      "<class 'pandas.core.frame.DataFrame'>\n",
      "Int64Index: 109248 entries, 0 to 109247\n",
      "Data columns (total 16 columns):\n",
      "Unnamed: 0                                      109248 non-null int64\n",
      "id                                              109248 non-null object\n",
      "teacher_id                                      109248 non-null object\n",
      "teacher_prefix                                  109248 non-null object\n",
      "school_state                                    109248 non-null object\n",
      "Date                                            109248 non-null datetime64[ns]\n",
      "project_grade_category                          109248 non-null object\n",
      "project_subject_categories                      109248 non-null object\n",
      "project_subject_subcategories                   109248 non-null object\n",
      "project_title                                   109248 non-null object\n",
      "project_resource_summary                        109248 non-null object\n",
      "teacher_number_of_previously_posted_projects    109248 non-null int64\n",
      "project_is_approved                             109248 non-null int64\n",
      "price                                           109248 non-null float64\n",
      "quantity                                        109248 non-null int64\n",
      "essay                                           109248 non-null object\n",
      "dtypes: datetime64[ns](1), float64(1), int64(4), object(10)\n",
      "memory usage: 14.2+ MB\n"
     ]
    }
   ],
   "source": [
    "# it can be clearly seen that we have handled all null values in our data frame.\n",
    "project_data.info()"
   ]
  },
  {
   "cell_type": "code",
   "execution_count": 18,
   "metadata": {},
   "outputs": [
    {
     "name": "stdout",
     "output_type": "stream",
     "text": [
      "(60542, 16)\n"
     ]
    }
   ],
   "source": [
    "df_approved = project_data[project_data.project_is_approved==1].tail(44000)\n",
    "df_rejected = project_data[project_data.project_is_approved==0]\n",
    "\n",
    "final_df = pd.concat([df_approved, df_rejected])\n",
    "print(final_df.shape)"
   ]
  },
  {
   "cell_type": "markdown",
   "metadata": {
    "colab_type": "text",
    "id": "6WZaYhwJCymp"
   },
   "source": [
    "## 1.2 preprocessing of `project_subject_categories`"
   ]
  },
  {
   "cell_type": "code",
   "execution_count": 19,
   "metadata": {},
   "outputs": [],
   "source": [
    "def preprocess_text(column_name):\n",
    "    catogories = list(final_df[column_name].values)\n",
    "    # remove special characters from list of strings python: https://stackoverflow.com/a/47301924/4084039\n",
    "    # https://www.geeksforgeeks.org/removing-stop-words-nltk-python/\n",
    "    # https://stackoverflow.com/questions/23669024/how-to-strip-a-specific-word-from-a-string\n",
    "    # https://stackoverflow.com/questions/8270092/remove-all-whitespace-in-a-string-in-python\n",
    "    cat_list = []\n",
    "    for i in catogories:\n",
    "        temp = \"\"\n",
    "        # consider we have text like this \"Math & Science, Warmth, Care & Hunger\"\n",
    "        for j in i.split(','): # it will split it in three parts [\"Math & Science\", \"Warmth\", \"Care & Hunger\"]\n",
    "            if 'The' in j.split(): # this will split each of the catogory based on space \"Math & Science\"=> \"Math\",\"&\", \"Science\"\n",
    "                j=j.replace('The','') # if we have the words \"The\" we are going to replace it with ''(i.e removing 'The')\n",
    "            j = j.replace(' ','') # we are placeing all the ' '(space) with ''(empty) ex:\"Math & Science\"=>\"Math&Science\"\n",
    "            temp+=j.strip()+\" \" #\" abc \".strip() will return \"abc\", remove the trailing spaces\n",
    "            temp = temp.replace('&','_') # we are replacing the & value into \n",
    "        cat_list.append(temp.strip())\n",
    "    return cat_list    \n",
    "        "
   ]
  },
  {
   "cell_type": "code",
   "execution_count": 20,
   "metadata": {},
   "outputs": [],
   "source": [
    "# preprocessing of `project_subject_categories`\n",
    "final_df['clean_categories'] = preprocess_text('project_subject_categories')\n",
    "final_df.drop(['project_subject_categories'], axis=1, inplace=True)"
   ]
  },
  {
   "cell_type": "markdown",
   "metadata": {},
   "source": [
    "## 1.3 preprocessing of `project_subject_subcategories`"
   ]
  },
  {
   "cell_type": "code",
   "execution_count": 21,
   "metadata": {},
   "outputs": [],
   "source": [
    "# preprocessing of `project_subject_subcategories`\n",
    "final_df['clean_subcategories'] = preprocess_text('project_subject_subcategories')\n",
    "final_df.drop(['project_subject_subcategories'], axis=1, inplace=True)"
   ]
  },
  {
   "cell_type": "markdown",
   "metadata": {},
   "source": [
    "## 1.4 Adding New Feature  `No. of words in project_title`"
   ]
  },
  {
   "cell_type": "code",
   "execution_count": 22,
   "metadata": {},
   "outputs": [],
   "source": [
    "final_df['title_word_count'] = final_df['project_title'].apply(lambda x: len(x.split()))"
   ]
  },
  {
   "cell_type": "code",
   "execution_count": 23,
   "metadata": {},
   "outputs": [
    {
     "data": {
      "text/html": [
       "<div>\n",
       "<style scoped>\n",
       "    .dataframe tbody tr th:only-of-type {\n",
       "        vertical-align: middle;\n",
       "    }\n",
       "\n",
       "    .dataframe tbody tr th {\n",
       "        vertical-align: top;\n",
       "    }\n",
       "\n",
       "    .dataframe thead th {\n",
       "        text-align: right;\n",
       "    }\n",
       "</style>\n",
       "<table border=\"1\" class=\"dataframe\">\n",
       "  <thead>\n",
       "    <tr style=\"text-align: right;\">\n",
       "      <th></th>\n",
       "      <th>Unnamed: 0</th>\n",
       "      <th>id</th>\n",
       "      <th>teacher_id</th>\n",
       "      <th>teacher_prefix</th>\n",
       "      <th>school_state</th>\n",
       "      <th>Date</th>\n",
       "      <th>project_grade_category</th>\n",
       "      <th>project_title</th>\n",
       "      <th>project_resource_summary</th>\n",
       "      <th>teacher_number_of_previously_posted_projects</th>\n",
       "      <th>project_is_approved</th>\n",
       "      <th>price</th>\n",
       "      <th>quantity</th>\n",
       "      <th>essay</th>\n",
       "      <th>clean_categories</th>\n",
       "      <th>clean_subcategories</th>\n",
       "      <th>title_word_count</th>\n",
       "    </tr>\n",
       "  </thead>\n",
       "  <tbody>\n",
       "    <tr>\n",
       "      <th>57914</th>\n",
       "      <td>20585</td>\n",
       "      <td>p162378</td>\n",
       "      <td>d7f9112bc7cb9f651090a0afc0808f1d</td>\n",
       "      <td>Ms.</td>\n",
       "      <td>MA</td>\n",
       "      <td>2016-10-10 12:30:53</td>\n",
       "      <td>Grades PreK-2</td>\n",
       "      <td>Providing Access to Technology to First Graders</td>\n",
       "      <td>My students need Kindle Fire tablets to provid...</td>\n",
       "      <td>0</td>\n",
       "      <td>1</td>\n",
       "      <td>99.99</td>\n",
       "      <td>4</td>\n",
       "      <td>I spend each day with a group of phenomenal fi...</td>\n",
       "      <td>Literacy_Language</td>\n",
       "      <td>Literacy</td>\n",
       "      <td>7</td>\n",
       "    </tr>\n",
       "    <tr>\n",
       "      <th>57915</th>\n",
       "      <td>67525</td>\n",
       "      <td>p074880</td>\n",
       "      <td>a8731a23e04ca6fa1d528e5f8914d6a8</td>\n",
       "      <td>Mrs.</td>\n",
       "      <td>FL</td>\n",
       "      <td>2016-10-10 12:32:36</td>\n",
       "      <td>Grades 9-12</td>\n",
       "      <td>This Little Piggy Goes to Bio Class</td>\n",
       "      <td>My students need 24 pig anatomy kits and a box...</td>\n",
       "      <td>1</td>\n",
       "      <td>1</td>\n",
       "      <td>45.85</td>\n",
       "      <td>25</td>\n",
       "      <td>My students are an amazing group of individual...</td>\n",
       "      <td>Math_Science</td>\n",
       "      <td>Health_LifeScience</td>\n",
       "      <td>7</td>\n",
       "    </tr>\n",
       "  </tbody>\n",
       "</table>\n",
       "</div>"
      ],
      "text/plain": [
       "       Unnamed: 0       id                        teacher_id teacher_prefix  \\\n",
       "57914       20585  p162378  d7f9112bc7cb9f651090a0afc0808f1d            Ms.   \n",
       "57915       67525  p074880  a8731a23e04ca6fa1d528e5f8914d6a8           Mrs.   \n",
       "\n",
       "      school_state                Date project_grade_category  \\\n",
       "57914           MA 2016-10-10 12:30:53          Grades PreK-2   \n",
       "57915           FL 2016-10-10 12:32:36            Grades 9-12   \n",
       "\n",
       "                                         project_title  \\\n",
       "57914  Providing Access to Technology to First Graders   \n",
       "57915              This Little Piggy Goes to Bio Class   \n",
       "\n",
       "                                project_resource_summary  \\\n",
       "57914  My students need Kindle Fire tablets to provid...   \n",
       "57915  My students need 24 pig anatomy kits and a box...   \n",
       "\n",
       "       teacher_number_of_previously_posted_projects  project_is_approved  \\\n",
       "57914                                             0                    1   \n",
       "57915                                             1                    1   \n",
       "\n",
       "       price  quantity                                              essay  \\\n",
       "57914  99.99         4  I spend each day with a group of phenomenal fi...   \n",
       "57915  45.85        25  My students are an amazing group of individual...   \n",
       "\n",
       "        clean_categories clean_subcategories  title_word_count  \n",
       "57914  Literacy_Language            Literacy                 7  \n",
       "57915       Math_Science  Health_LifeScience                 7  "
      ]
     },
     "execution_count": 23,
     "metadata": {},
     "output_type": "execute_result"
    }
   ],
   "source": [
    "final_df.head(2)"
   ]
  },
  {
   "cell_type": "markdown",
   "metadata": {},
   "source": [
    "## 1.5 Preprocessing project grade category"
   ]
  },
  {
   "cell_type": "code",
   "execution_count": 24,
   "metadata": {},
   "outputs": [
    {
     "name": "stdout",
     "output_type": "stream",
     "text": [
      "Post Preprocessing: \n"
     ]
    },
    {
     "data": {
      "text/plain": [
       "Grades_PreK_2    24307\n",
       "Grades_3_5       20295\n",
       "Grades_6_8        9596\n",
       "Grades_9_12       6344\n",
       "Name: project_grade_category, dtype: int64"
      ]
     },
     "execution_count": 24,
     "metadata": {},
     "output_type": "execute_result"
    }
   ],
   "source": [
    "# replacing space with _.\n",
    "final_df['project_grade_category'] = final_df['project_grade_category'].apply(lambda x: x.replace(' ', '_').replace('-', '_'))\n",
    "print('Post Preprocessing: ')\n",
    "final_df['project_grade_category'].value_counts()"
   ]
  },
  {
   "cell_type": "markdown",
   "metadata": {},
   "source": [
    "## 1.6 Preprocessing teacher_prefix"
   ]
  },
  {
   "cell_type": "code",
   "execution_count": 25,
   "metadata": {},
   "outputs": [
    {
     "name": "stdout",
     "output_type": "stream",
     "text": [
      "Post Preprocessing: \n"
     ]
    },
    {
     "data": {
      "text/plain": [
       "Mrs        31061\n",
       "Ms         21895\n",
       "Mr          6136\n",
       "Teacher     1440\n",
       "Dr            10\n",
       "Name: teacher_prefix, dtype: int64"
      ]
     },
     "execution_count": 25,
     "metadata": {},
     "output_type": "execute_result"
    }
   ],
   "source": [
    "# replacing '.' with ''\n",
    "final_df['teacher_prefix'] = final_df['teacher_prefix'].apply(lambda x: x.replace('.', ''))\n",
    "print('Post Preprocessing: ')\n",
    "final_df['teacher_prefix'].value_counts()"
   ]
  },
  {
   "cell_type": "markdown",
   "metadata": {},
   "source": [
    "## 1.6 Adding New Feature  `No. of words in Essay`"
   ]
  },
  {
   "cell_type": "code",
   "execution_count": 26,
   "metadata": {},
   "outputs": [],
   "source": [
    "final_df['essay_word_count'] = final_df['essay'].apply(lambda x: len(x.split()))"
   ]
  },
  {
   "cell_type": "code",
   "execution_count": 27,
   "metadata": {},
   "outputs": [
    {
     "data": {
      "text/html": [
       "<div>\n",
       "<style scoped>\n",
       "    .dataframe tbody tr th:only-of-type {\n",
       "        vertical-align: middle;\n",
       "    }\n",
       "\n",
       "    .dataframe tbody tr th {\n",
       "        vertical-align: top;\n",
       "    }\n",
       "\n",
       "    .dataframe thead th {\n",
       "        text-align: right;\n",
       "    }\n",
       "</style>\n",
       "<table border=\"1\" class=\"dataframe\">\n",
       "  <thead>\n",
       "    <tr style=\"text-align: right;\">\n",
       "      <th></th>\n",
       "      <th>Unnamed: 0</th>\n",
       "      <th>id</th>\n",
       "      <th>teacher_id</th>\n",
       "      <th>teacher_prefix</th>\n",
       "      <th>school_state</th>\n",
       "      <th>Date</th>\n",
       "      <th>project_grade_category</th>\n",
       "      <th>project_title</th>\n",
       "      <th>project_resource_summary</th>\n",
       "      <th>teacher_number_of_previously_posted_projects</th>\n",
       "      <th>project_is_approved</th>\n",
       "      <th>price</th>\n",
       "      <th>quantity</th>\n",
       "      <th>essay</th>\n",
       "      <th>clean_categories</th>\n",
       "      <th>clean_subcategories</th>\n",
       "      <th>title_word_count</th>\n",
       "      <th>essay_word_count</th>\n",
       "    </tr>\n",
       "  </thead>\n",
       "  <tbody>\n",
       "    <tr>\n",
       "      <th>57914</th>\n",
       "      <td>20585</td>\n",
       "      <td>p162378</td>\n",
       "      <td>d7f9112bc7cb9f651090a0afc0808f1d</td>\n",
       "      <td>Ms</td>\n",
       "      <td>MA</td>\n",
       "      <td>2016-10-10 12:30:53</td>\n",
       "      <td>Grades_PreK_2</td>\n",
       "      <td>Providing Access to Technology to First Graders</td>\n",
       "      <td>My students need Kindle Fire tablets to provid...</td>\n",
       "      <td>0</td>\n",
       "      <td>1</td>\n",
       "      <td>99.99</td>\n",
       "      <td>4</td>\n",
       "      <td>I spend each day with a group of phenomenal fi...</td>\n",
       "      <td>Literacy_Language</td>\n",
       "      <td>Literacy</td>\n",
       "      <td>7</td>\n",
       "      <td>284</td>\n",
       "    </tr>\n",
       "    <tr>\n",
       "      <th>57915</th>\n",
       "      <td>67525</td>\n",
       "      <td>p074880</td>\n",
       "      <td>a8731a23e04ca6fa1d528e5f8914d6a8</td>\n",
       "      <td>Mrs</td>\n",
       "      <td>FL</td>\n",
       "      <td>2016-10-10 12:32:36</td>\n",
       "      <td>Grades_9_12</td>\n",
       "      <td>This Little Piggy Goes to Bio Class</td>\n",
       "      <td>My students need 24 pig anatomy kits and a box...</td>\n",
       "      <td>1</td>\n",
       "      <td>1</td>\n",
       "      <td>45.85</td>\n",
       "      <td>25</td>\n",
       "      <td>My students are an amazing group of individual...</td>\n",
       "      <td>Math_Science</td>\n",
       "      <td>Health_LifeScience</td>\n",
       "      <td>7</td>\n",
       "      <td>222</td>\n",
       "    </tr>\n",
       "  </tbody>\n",
       "</table>\n",
       "</div>"
      ],
      "text/plain": [
       "       Unnamed: 0       id                        teacher_id teacher_prefix  \\\n",
       "57914       20585  p162378  d7f9112bc7cb9f651090a0afc0808f1d             Ms   \n",
       "57915       67525  p074880  a8731a23e04ca6fa1d528e5f8914d6a8            Mrs   \n",
       "\n",
       "      school_state                Date project_grade_category  \\\n",
       "57914           MA 2016-10-10 12:30:53          Grades_PreK_2   \n",
       "57915           FL 2016-10-10 12:32:36            Grades_9_12   \n",
       "\n",
       "                                         project_title  \\\n",
       "57914  Providing Access to Technology to First Graders   \n",
       "57915              This Little Piggy Goes to Bio Class   \n",
       "\n",
       "                                project_resource_summary  \\\n",
       "57914  My students need Kindle Fire tablets to provid...   \n",
       "57915  My students need 24 pig anatomy kits and a box...   \n",
       "\n",
       "       teacher_number_of_previously_posted_projects  project_is_approved  \\\n",
       "57914                                             0                    1   \n",
       "57915                                             1                    1   \n",
       "\n",
       "       price  quantity                                              essay  \\\n",
       "57914  99.99         4  I spend each day with a group of phenomenal fi...   \n",
       "57915  45.85        25  My students are an amazing group of individual...   \n",
       "\n",
       "        clean_categories clean_subcategories  title_word_count  \\\n",
       "57914  Literacy_Language            Literacy                 7   \n",
       "57915       Math_Science  Health_LifeScience                 7   \n",
       "\n",
       "       essay_word_count  \n",
       "57914               284  \n",
       "57915               222  "
      ]
     },
     "execution_count": 27,
     "metadata": {},
     "output_type": "execute_result"
    }
   ],
   "source": [
    "final_df.head(2)"
   ]
  },
  {
   "cell_type": "markdown",
   "metadata": {},
   "source": [
    "## 1.7 Preprocessing of `essay`"
   ]
  },
  {
   "cell_type": "code",
   "execution_count": 28,
   "metadata": {},
   "outputs": [],
   "source": [
    "# https://stackoverflow.com/a/47091490/4084039\n",
    "import re\n",
    "from tqdm import tqdm\n",
    "\n",
    "def decontracted(phrase):\n",
    "    # specific\n",
    "    phrase = re.sub(r\"won't\", \"will not\", phrase)\n",
    "    phrase = re.sub(r\"can\\'t\", \"can not\", phrase)\n",
    "\n",
    "    # general\n",
    "    phrase = re.sub(r\"n\\'t\", \" not\", phrase)\n",
    "    phrase = re.sub(r\"\\'re\", \" are\", phrase)\n",
    "    phrase = re.sub(r\"\\'s\", \" is\", phrase)\n",
    "    phrase = re.sub(r\"\\'d\", \" would\", phrase)\n",
    "    phrase = re.sub(r\"\\'ll\", \" will\", phrase)\n",
    "    phrase = re.sub(r\"\\'t\", \" not\", phrase)\n",
    "    phrase = re.sub(r\"\\'ve\", \" have\", phrase)\n",
    "    phrase = re.sub(r\"\\'m\", \" am\", phrase)\n",
    "    return phrase\n",
    "\n",
    "\n",
    "# https://gist.github.com/sebleier/554280\n",
    "# we are removing the words from the stop words list: 'no', 'nor', 'not'\n",
    "stopwords= ['i', 'me', 'my', 'myself', 'we', 'our', 'ours', 'ourselves', 'you', \"you're\", \"you've\",\\\n",
    "            \"you'll\", \"you'd\", 'your', 'yours', 'yourself', 'yourselves', 'he', 'him', 'his', 'himself', \\\n",
    "            'she', \"she's\", 'her', 'hers', 'herself', 'it', \"it's\", 'its', 'itself', 'they', 'them', 'their',\\\n",
    "            'theirs', 'themselves', 'what', 'which', 'who', 'whom', 'this', 'that', \"that'll\", 'these', 'those', \\\n",
    "            'am', 'is', 'are', 'was', 'were', 'be', 'been', 'being', 'have', 'has', 'had', 'having', 'do', 'does', \\\n",
    "            'did', 'doing', 'a', 'an', 'the', 'and', 'but', 'if', 'or', 'because', 'as', 'until', 'while', 'of', \\\n",
    "            'at', 'by', 'for', 'with', 'about', 'against', 'between', 'into', 'through', 'during', 'before', 'after',\\\n",
    "            'above', 'below', 'to', 'from', 'up', 'down', 'in', 'out', 'on', 'off', 'over', 'under', 'again', 'further',\\\n",
    "            'then', 'once', 'here', 'there', 'when', 'where', 'why', 'how', 'all', 'any', 'both', 'each', 'few', 'more',\\\n",
    "            'most', 'other', 'some', 'such', 'only', 'own', 'same', 'so', 'than', 'too', 'very', \\\n",
    "            's', 't', 'can', 'will', 'just', 'don', \"don't\", 'should', \"should've\", 'now', 'd', 'll', 'm', 'o', 're', \\\n",
    "            've', 'y', 'ain', 'aren', \"aren't\", 'couldn', \"couldn't\", 'didn', \"didn't\", 'doesn', \"doesn't\", 'hadn',\\\n",
    "            \"hadn't\", 'hasn', \"hasn't\", 'haven', \"haven't\", 'isn', \"isn't\", 'ma', 'mightn', \"mightn't\", 'mustn',\\\n",
    "            \"mustn't\", 'needn', \"needn't\", 'shan', \"shan't\", 'shouldn', \"shouldn't\", 'wasn', \"wasn't\", 'weren', \"weren't\", \\\n",
    "            'won', \"won't\", 'wouldn', \"wouldn't\"]\n",
    "\n",
    "\n",
    "def preprocess_sentences(column_name):\n",
    "    preprocessed = []\n",
    "    # tqdm is for printing the status bar\n",
    "    for sentance in tqdm(final_df[column_name].values):\n",
    "        sent = decontracted(sentance)\n",
    "        sent = sent.replace('\\\\r', ' ')\n",
    "        sent = sent.replace('\\\\\"', ' ')\n",
    "        sent = sent.replace('\\\\n', ' ')\n",
    "        sent = re.sub('[^A-Za-z0-9]+', ' ', sent)\n",
    "        # https://gist.github.com/sebleier/554280\n",
    "        sent = ' '.join(e for e in sent.split() if e.lower() not in stopwords)\n",
    "        preprocessed.append(sent.lower().strip())\n",
    "    return preprocessed  "
   ]
  },
  {
   "cell_type": "code",
   "execution_count": 29,
   "metadata": {},
   "outputs": [
    {
     "name": "stderr",
     "output_type": "stream",
     "text": [
      "100%|██████████| 60542/60542 [00:32<00:00, 1874.09it/s]\n"
     ]
    },
    {
     "data": {
      "text/html": [
       "<div>\n",
       "<style scoped>\n",
       "    .dataframe tbody tr th:only-of-type {\n",
       "        vertical-align: middle;\n",
       "    }\n",
       "\n",
       "    .dataframe tbody tr th {\n",
       "        vertical-align: top;\n",
       "    }\n",
       "\n",
       "    .dataframe thead th {\n",
       "        text-align: right;\n",
       "    }\n",
       "</style>\n",
       "<table border=\"1\" class=\"dataframe\">\n",
       "  <thead>\n",
       "    <tr style=\"text-align: right;\">\n",
       "      <th></th>\n",
       "      <th>Unnamed: 0</th>\n",
       "      <th>id</th>\n",
       "      <th>teacher_id</th>\n",
       "      <th>teacher_prefix</th>\n",
       "      <th>school_state</th>\n",
       "      <th>Date</th>\n",
       "      <th>project_grade_category</th>\n",
       "      <th>project_title</th>\n",
       "      <th>project_resource_summary</th>\n",
       "      <th>teacher_number_of_previously_posted_projects</th>\n",
       "      <th>project_is_approved</th>\n",
       "      <th>price</th>\n",
       "      <th>quantity</th>\n",
       "      <th>clean_categories</th>\n",
       "      <th>clean_subcategories</th>\n",
       "      <th>title_word_count</th>\n",
       "      <th>essay_word_count</th>\n",
       "      <th>clean_essay</th>\n",
       "    </tr>\n",
       "  </thead>\n",
       "  <tbody>\n",
       "    <tr>\n",
       "      <th>57914</th>\n",
       "      <td>20585</td>\n",
       "      <td>p162378</td>\n",
       "      <td>d7f9112bc7cb9f651090a0afc0808f1d</td>\n",
       "      <td>Ms</td>\n",
       "      <td>MA</td>\n",
       "      <td>2016-10-10 12:30:53</td>\n",
       "      <td>Grades_PreK_2</td>\n",
       "      <td>Providing Access to Technology to First Graders</td>\n",
       "      <td>My students need Kindle Fire tablets to provid...</td>\n",
       "      <td>0</td>\n",
       "      <td>1</td>\n",
       "      <td>99.99</td>\n",
       "      <td>4</td>\n",
       "      <td>Literacy_Language</td>\n",
       "      <td>Literacy</td>\n",
       "      <td>7</td>\n",
       "      <td>284</td>\n",
       "      <td>spend day group phenomenal first graders toget...</td>\n",
       "    </tr>\n",
       "    <tr>\n",
       "      <th>57915</th>\n",
       "      <td>67525</td>\n",
       "      <td>p074880</td>\n",
       "      <td>a8731a23e04ca6fa1d528e5f8914d6a8</td>\n",
       "      <td>Mrs</td>\n",
       "      <td>FL</td>\n",
       "      <td>2016-10-10 12:32:36</td>\n",
       "      <td>Grades_9_12</td>\n",
       "      <td>This Little Piggy Goes to Bio Class</td>\n",
       "      <td>My students need 24 pig anatomy kits and a box...</td>\n",
       "      <td>1</td>\n",
       "      <td>1</td>\n",
       "      <td>45.85</td>\n",
       "      <td>25</td>\n",
       "      <td>Math_Science</td>\n",
       "      <td>Health_LifeScience</td>\n",
       "      <td>7</td>\n",
       "      <td>222</td>\n",
       "      <td>students amazing group individuals overcoming ...</td>\n",
       "    </tr>\n",
       "  </tbody>\n",
       "</table>\n",
       "</div>"
      ],
      "text/plain": [
       "       Unnamed: 0       id                        teacher_id teacher_prefix  \\\n",
       "57914       20585  p162378  d7f9112bc7cb9f651090a0afc0808f1d             Ms   \n",
       "57915       67525  p074880  a8731a23e04ca6fa1d528e5f8914d6a8            Mrs   \n",
       "\n",
       "      school_state                Date project_grade_category  \\\n",
       "57914           MA 2016-10-10 12:30:53          Grades_PreK_2   \n",
       "57915           FL 2016-10-10 12:32:36            Grades_9_12   \n",
       "\n",
       "                                         project_title  \\\n",
       "57914  Providing Access to Technology to First Graders   \n",
       "57915              This Little Piggy Goes to Bio Class   \n",
       "\n",
       "                                project_resource_summary  \\\n",
       "57914  My students need Kindle Fire tablets to provid...   \n",
       "57915  My students need 24 pig anatomy kits and a box...   \n",
       "\n",
       "       teacher_number_of_previously_posted_projects  project_is_approved  \\\n",
       "57914                                             0                    1   \n",
       "57915                                             1                    1   \n",
       "\n",
       "       price  quantity   clean_categories clean_subcategories  \\\n",
       "57914  99.99         4  Literacy_Language            Literacy   \n",
       "57915  45.85        25       Math_Science  Health_LifeScience   \n",
       "\n",
       "       title_word_count  essay_word_count  \\\n",
       "57914                 7               284   \n",
       "57915                 7               222   \n",
       "\n",
       "                                             clean_essay  \n",
       "57914  spend day group phenomenal first graders toget...  \n",
       "57915  students amazing group individuals overcoming ...  "
      ]
     },
     "execution_count": 29,
     "metadata": {},
     "output_type": "execute_result"
    }
   ],
   "source": [
    "final_df['clean_essay'] = preprocess_sentences('essay')\n",
    "final_df.drop(['essay'], axis=1, inplace=True)\n",
    "final_df.head(2)"
   ]
  },
  {
   "cell_type": "markdown",
   "metadata": {},
   "source": [
    "## 1.8 Preprocessing of `project_title`"
   ]
  },
  {
   "cell_type": "code",
   "execution_count": 30,
   "metadata": {},
   "outputs": [
    {
     "name": "stderr",
     "output_type": "stream",
     "text": [
      "100%|██████████| 60542/60542 [00:01<00:00, 38236.36it/s]\n"
     ]
    },
    {
     "data": {
      "text/html": [
       "<div>\n",
       "<style scoped>\n",
       "    .dataframe tbody tr th:only-of-type {\n",
       "        vertical-align: middle;\n",
       "    }\n",
       "\n",
       "    .dataframe tbody tr th {\n",
       "        vertical-align: top;\n",
       "    }\n",
       "\n",
       "    .dataframe thead th {\n",
       "        text-align: right;\n",
       "    }\n",
       "</style>\n",
       "<table border=\"1\" class=\"dataframe\">\n",
       "  <thead>\n",
       "    <tr style=\"text-align: right;\">\n",
       "      <th></th>\n",
       "      <th>Unnamed: 0</th>\n",
       "      <th>id</th>\n",
       "      <th>teacher_id</th>\n",
       "      <th>teacher_prefix</th>\n",
       "      <th>school_state</th>\n",
       "      <th>Date</th>\n",
       "      <th>project_grade_category</th>\n",
       "      <th>project_resource_summary</th>\n",
       "      <th>teacher_number_of_previously_posted_projects</th>\n",
       "      <th>project_is_approved</th>\n",
       "      <th>price</th>\n",
       "      <th>quantity</th>\n",
       "      <th>clean_categories</th>\n",
       "      <th>clean_subcategories</th>\n",
       "      <th>title_word_count</th>\n",
       "      <th>essay_word_count</th>\n",
       "      <th>clean_essay</th>\n",
       "      <th>clean_title</th>\n",
       "    </tr>\n",
       "  </thead>\n",
       "  <tbody>\n",
       "    <tr>\n",
       "      <th>57914</th>\n",
       "      <td>20585</td>\n",
       "      <td>p162378</td>\n",
       "      <td>d7f9112bc7cb9f651090a0afc0808f1d</td>\n",
       "      <td>Ms</td>\n",
       "      <td>MA</td>\n",
       "      <td>2016-10-10 12:30:53</td>\n",
       "      <td>Grades_PreK_2</td>\n",
       "      <td>My students need Kindle Fire tablets to provid...</td>\n",
       "      <td>0</td>\n",
       "      <td>1</td>\n",
       "      <td>99.99</td>\n",
       "      <td>4</td>\n",
       "      <td>Literacy_Language</td>\n",
       "      <td>Literacy</td>\n",
       "      <td>7</td>\n",
       "      <td>284</td>\n",
       "      <td>spend day group phenomenal first graders toget...</td>\n",
       "      <td>providing access technology first graders</td>\n",
       "    </tr>\n",
       "    <tr>\n",
       "      <th>57915</th>\n",
       "      <td>67525</td>\n",
       "      <td>p074880</td>\n",
       "      <td>a8731a23e04ca6fa1d528e5f8914d6a8</td>\n",
       "      <td>Mrs</td>\n",
       "      <td>FL</td>\n",
       "      <td>2016-10-10 12:32:36</td>\n",
       "      <td>Grades_9_12</td>\n",
       "      <td>My students need 24 pig anatomy kits and a box...</td>\n",
       "      <td>1</td>\n",
       "      <td>1</td>\n",
       "      <td>45.85</td>\n",
       "      <td>25</td>\n",
       "      <td>Math_Science</td>\n",
       "      <td>Health_LifeScience</td>\n",
       "      <td>7</td>\n",
       "      <td>222</td>\n",
       "      <td>students amazing group individuals overcoming ...</td>\n",
       "      <td>little piggy goes bio class</td>\n",
       "    </tr>\n",
       "  </tbody>\n",
       "</table>\n",
       "</div>"
      ],
      "text/plain": [
       "       Unnamed: 0       id                        teacher_id teacher_prefix  \\\n",
       "57914       20585  p162378  d7f9112bc7cb9f651090a0afc0808f1d             Ms   \n",
       "57915       67525  p074880  a8731a23e04ca6fa1d528e5f8914d6a8            Mrs   \n",
       "\n",
       "      school_state                Date project_grade_category  \\\n",
       "57914           MA 2016-10-10 12:30:53          Grades_PreK_2   \n",
       "57915           FL 2016-10-10 12:32:36            Grades_9_12   \n",
       "\n",
       "                                project_resource_summary  \\\n",
       "57914  My students need Kindle Fire tablets to provid...   \n",
       "57915  My students need 24 pig anatomy kits and a box...   \n",
       "\n",
       "       teacher_number_of_previously_posted_projects  project_is_approved  \\\n",
       "57914                                             0                    1   \n",
       "57915                                             1                    1   \n",
       "\n",
       "       price  quantity   clean_categories clean_subcategories  \\\n",
       "57914  99.99         4  Literacy_Language            Literacy   \n",
       "57915  45.85        25       Math_Science  Health_LifeScience   \n",
       "\n",
       "       title_word_count  essay_word_count  \\\n",
       "57914                 7               284   \n",
       "57915                 7               222   \n",
       "\n",
       "                                             clean_essay  \\\n",
       "57914  spend day group phenomenal first graders toget...   \n",
       "57915  students amazing group individuals overcoming ...   \n",
       "\n",
       "                                     clean_title  \n",
       "57914  providing access technology first graders  \n",
       "57915                little piggy goes bio class  "
      ]
     },
     "execution_count": 30,
     "metadata": {},
     "output_type": "execute_result"
    }
   ],
   "source": [
    "# preprocessing of `project_title`\n",
    "final_df['clean_title'] = preprocess_sentences('project_title')\n",
    "final_df.drop(['project_title'], axis=1, inplace=True)\n",
    "final_df.head(2)"
   ]
  },
  {
   "cell_type": "markdown",
   "metadata": {},
   "source": [
    "<h2>2.1 Splitting data into Train, Cross validation and Test: Stratified Sampling</h2>"
   ]
  },
  {
   "cell_type": "code",
   "execution_count": 31,
   "metadata": {},
   "outputs": [],
   "source": [
    "# I have divided the data into train, cv and test set with ratio 60:20:20 .\n",
    "\n",
    "X_1, X_test, y_1, y_test = train_test_split(final_df, final_df['project_is_approved'], test_size=0.2, random_state=0)\n",
    "X_train, X_cv, y_train, y_cv = train_test_split(X_1, y_1, test_size=0.2, random_state=0)"
   ]
  },
  {
   "cell_type": "code",
   "execution_count": 32,
   "metadata": {},
   "outputs": [],
   "source": [
    "X_train.drop(['project_is_approved'], axis=1, inplace=True)\n",
    "X_cv.drop(['project_is_approved'], axis=1, inplace=True)\n",
    "X_test.drop(['project_is_approved'], axis=1, inplace=True)"
   ]
  },
  {
   "cell_type": "markdown",
   "metadata": {
    "colab_type": "text",
    "id": "NQg4ZfFtCyn9"
   },
   "source": [
    "<h2>2.2 Make Data Model Ready: encoding numerical, categorical features</h2>"
   ]
  },
  {
   "cell_type": "code",
   "execution_count": 33,
   "metadata": {
    "colab": {},
    "colab_type": "code",
    "id": "V4GS54ZTCyn-",
    "outputId": "febd575b-ed33-454e-d2d5-e8f6f635d117"
   },
   "outputs": [
    {
     "data": {
      "text/plain": [
       "Index(['Unnamed: 0', 'id', 'teacher_id', 'teacher_prefix', 'school_state',\n",
       "       'Date', 'project_grade_category', 'project_resource_summary',\n",
       "       'teacher_number_of_previously_posted_projects', 'price', 'quantity',\n",
       "       'clean_categories', 'clean_subcategories', 'title_word_count',\n",
       "       'essay_word_count', 'clean_essay', 'clean_title'],\n",
       "      dtype='object')"
      ]
     },
     "execution_count": 33,
     "metadata": {},
     "output_type": "execute_result"
    }
   ],
   "source": [
    "X_train.columns"
   ]
  },
  {
   "cell_type": "markdown",
   "metadata": {
    "colab_type": "text",
    "id": "6FDsc1epCyoD"
   },
   "source": [
    "we are going to consider\n",
    "\n",
    "       - school_state : categorical data\n",
    "       - clean_categories : categorical data\n",
    "       - clean_subcategories : categorical data\n",
    "       - title_word_count: No. of words in project_title\n",
    "       _ essay_word_count: No. of words in essay.\n",
    "       \n",
    "       \n",
    "       - project_grade_category : categorical data\n",
    "       - teacher_prefix : categorical data\n",
    "       \n",
    "       - clean_title : text data\n",
    "       - clean_essay : text data\n",
    "       - project_resource_summary: text data (optinal)\n",
    "       \n",
    "       - quantity : numerical (optinal)\n",
    "       - teacher_number_of_previously_posted_projects : numerical\n",
    "       - price : numerical"
   ]
  },
  {
   "cell_type": "markdown",
   "metadata": {},
   "source": [
    "<h2>2.2.1 Vectorizing numerical features</h2>\n",
    "\n",
    "* I am using one hot encoding technique to encode our categorical features.\n"
   ]
  },
  {
   "cell_type": "markdown",
   "metadata": {},
   "source": [
    "<h2> A) Price</h2>"
   ]
  },
  {
   "cell_type": "code",
   "execution_count": 34,
   "metadata": {},
   "outputs": [
    {
     "name": "stdout",
     "output_type": "stream",
     "text": [
      "Mean : 298.5071535126206, Standard deviation : 376.42382111593906\n",
      "\n",
      "Post Standardization\n",
      "(38746, 1) (38746,)\n",
      "(9687, 1) (9687,)\n",
      "(12109, 1) (12109,)\n",
      "****************************************************************************************************\n"
     ]
    }
   ],
   "source": [
    "# encoding price\n",
    "from sklearn.preprocessing import StandardScaler\n",
    "\n",
    "# standardizer.fit(X_train['price'].values)\n",
    "# this will rise an error Expected 2D array, got 1D array instead: # array=[105.22 215.96 96.01 ... 368.98 80.53 709.67].\n",
    "# Reshape your data either using\n",
    "# array.reshape(-1, 1) if your data has a single feature\n",
    "# array.reshape(1, -1) if it contains a single sample.\n",
    "\n",
    "\n",
    "standardizer = StandardScaler(with_mean=False)\n",
    "standardizer.fit(X_train['price'].values.reshape(-1,1))\n",
    "print(f\"Mean : {standardizer.mean_[0]}, Standard deviation : {np.sqrt(standardizer.var_[0])}\\n\")\n",
    "\n",
    "# Now standardize the data with above mean and variance.\n",
    "\n",
    "price_train = standardizer.transform(X_train['price'].values.reshape(-1, 1))\n",
    "price_cv = standardizer.transform(X_cv['price'].values.reshape(-1, 1))\n",
    "price_test = standardizer.transform(X_test['price'].values.reshape(-1, 1))\n",
    "\n",
    "\n",
    "print('Post Standardization')\n",
    "print(price_train.shape, y_train.shape)\n",
    "print(price_cv.shape, y_cv.shape)\n",
    "print(price_test.shape, y_test.shape)\n",
    "print('*'*100)"
   ]
  },
  {
   "cell_type": "markdown",
   "metadata": {},
   "source": [
    "<h2> B) Quantity</h2>"
   ]
  },
  {
   "cell_type": "code",
   "execution_count": 35,
   "metadata": {},
   "outputs": [
    {
     "name": "stdout",
     "output_type": "stream",
     "text": [
      "Mean : 16.54139782171063, Standard deviation : 25.628978294366323\n",
      "\n",
      "Post Standardization\n",
      "(38746, 1) (38746,)\n",
      "(9687, 1) (9687,)\n",
      "(12109, 1) (12109,)\n",
      "****************************************************************************************************\n"
     ]
    }
   ],
   "source": [
    "standardizer = StandardScaler(with_mean=False)\n",
    "standardizer.fit(X_train['quantity'].values.reshape(-1,1))\n",
    "print(f\"Mean : {standardizer.mean_[0]}, Standard deviation : {np.sqrt(standardizer.var_[0])}\\n\")\n",
    "\n",
    "# Now standardize the data with above mean and variance.\n",
    "\n",
    "quantity_train = standardizer.transform(X_train['quantity'].values.reshape(-1, 1))\n",
    "quantity_cv = standardizer.transform(X_cv['quantity'].values.reshape(-1, 1))\n",
    "quantity_test = standardizer.transform(X_test['quantity'].values.reshape(-1, 1))\n",
    "\n",
    "\n",
    "print('Post Standardization')\n",
    "print(quantity_train.shape, y_train.shape)\n",
    "print(quantity_cv.shape, y_cv.shape)\n",
    "print(quantity_test.shape, y_test.shape)\n",
    "print('*'*100)"
   ]
  },
  {
   "cell_type": "markdown",
   "metadata": {},
   "source": [
    "<h2> C) Number of projects previously posted by Teacher</h2>"
   ]
  },
  {
   "cell_type": "code",
   "execution_count": 36,
   "metadata": {},
   "outputs": [
    {
     "name": "stdout",
     "output_type": "stream",
     "text": [
      "Mean : 12.029370773757291, Standard deviation : 29.518216519463813\n",
      "\n",
      "Post Standardization\n",
      "(38746, 1) (38746,)\n",
      "(9687, 1) (9687,)\n",
      "(12109, 1) (12109,)\n",
      "****************************************************************************************************\n"
     ]
    }
   ],
   "source": [
    "standardizer = StandardScaler(with_mean=False)\n",
    "standardizer.fit(X_train['teacher_number_of_previously_posted_projects'].values.reshape(-1,1))\n",
    "print(f\"Mean : {standardizer.mean_[0]}, Standard deviation : {np.sqrt(standardizer.var_[0])}\\n\")\n",
    "\n",
    "# Now standardize the data with above mean and variance.\n",
    "\n",
    "prev_teacher_proj_train = standardizer.transform(X_train['teacher_number_of_previously_posted_projects'].values.reshape(-1, 1))\n",
    "prev_teacher_proj_cv = standardizer.transform(X_cv['teacher_number_of_previously_posted_projects'].values.reshape(-1, 1))\n",
    "prev_teacher_proj_test = standardizer.transform(X_test['teacher_number_of_previously_posted_projects'].values.reshape(-1, 1))\n",
    "\n",
    "\n",
    "print('Post Standardization')\n",
    "print(prev_teacher_proj_train.shape, y_train.shape)\n",
    "print(prev_teacher_proj_cv.shape, y_cv.shape)\n",
    "print(prev_teacher_proj_test.shape, y_test.shape)\n",
    "print('*'*100)"
   ]
  },
  {
   "cell_type": "markdown",
   "metadata": {},
   "source": [
    "<h2> D) Title word Count</h2>"
   ]
  },
  {
   "cell_type": "code",
   "execution_count": 37,
   "metadata": {},
   "outputs": [
    {
     "name": "stdout",
     "output_type": "stream",
     "text": [
      "Mean : 5.087209002219584, Standard deviation : 2.0904440065863996\n",
      "\n",
      "Post Standardization\n",
      "(38746, 1) (38746,)\n",
      "(9687, 1) (9687,)\n",
      "(12109, 1) (12109,)\n",
      "****************************************************************************************************\n"
     ]
    }
   ],
   "source": [
    "standardizer = StandardScaler(with_mean=False)\n",
    "standardizer.fit(X_train['title_word_count'].values.reshape(-1,1))\n",
    "print(f\"Mean : {standardizer.mean_[0]}, Standard deviation : {np.sqrt(standardizer.var_[0])}\\n\")\n",
    "\n",
    "# Now standardize the data with above mean and variance.\n",
    "\n",
    "title_word_count_train = standardizer.transform(X_train['title_word_count'].values.reshape(-1, 1))\n",
    "title_word_count_cv = standardizer.transform(X_cv['title_word_count'].values.reshape(-1, 1))\n",
    "title_word_count_test = standardizer.transform(X_test['title_word_count'].values.reshape(-1, 1))\n",
    "\n",
    "\n",
    "print('Post Standardization')\n",
    "print(title_word_count_train.shape, y_train.shape)\n",
    "print(title_word_count_cv.shape, y_cv.shape)\n",
    "print(title_word_count_test.shape, y_test.shape)\n",
    "print('*'*100)"
   ]
  },
  {
   "cell_type": "markdown",
   "metadata": {},
   "source": [
    "<h2> E) Essay word Count</h2>"
   ]
  },
  {
   "cell_type": "code",
   "execution_count": 38,
   "metadata": {},
   "outputs": [
    {
     "name": "stdout",
     "output_type": "stream",
     "text": [
      "Mean : 251.49785784339028, Standard deviation : 62.24243896188054\n",
      "\n",
      "Post Standardization\n",
      "(38746, 1) (38746,)\n",
      "(9687, 1) (9687,)\n",
      "(12109, 1) (12109,)\n",
      "****************************************************************************************************\n"
     ]
    }
   ],
   "source": [
    "standardizer = StandardScaler(with_mean=False)\n",
    "standardizer.fit(X_train['essay_word_count'].values.reshape(-1,1))\n",
    "print(f\"Mean : {standardizer.mean_[0]}, Standard deviation : {np.sqrt(standardizer.var_[0])}\\n\")\n",
    "\n",
    "# Now standardize the data with above mean and variance.\n",
    "\n",
    "essay_word_count_train = standardizer.transform(X_train['essay_word_count'].values.reshape(-1, 1))\n",
    "essay_word_count_cv = standardizer.transform(X_cv['essay_word_count'].values.reshape(-1, 1))\n",
    "essay_word_count_test = standardizer.transform(X_test['essay_word_count'].values.reshape(-1, 1))\n",
    "\n",
    "\n",
    "print('Post Standardization')\n",
    "print(essay_word_count_train.shape, y_train.shape)\n",
    "print(essay_word_count_cv.shape, y_cv.shape)\n",
    "print(essay_word_count_test.shape, y_test.shape)\n",
    "print('*'*100)"
   ]
  },
  {
   "cell_type": "markdown",
   "metadata": {},
   "source": [
    "<h2>2.2.2 Encoding categorical features</h2>\n"
   ]
  },
  {
   "cell_type": "code",
   "execution_count": 39,
   "metadata": {},
   "outputs": [],
   "source": [
    "from sklearn.feature_extraction.text import CountVectorizer\n",
    "from collections import Counter\n",
    "\n",
    "# we use count vectorizer to convert the values into one \n",
    "\n",
    "def get_categorical_vectorizer_for_training(df,column_name):\n",
    "    my_counter = Counter()\n",
    "    for word in df[column_name].values:\n",
    "        my_counter.update(word.split())\n",
    "    cat_dict = dict(my_counter)\n",
    "    sorted_cat_dict = dict(sorted(cat_dict.items(), key=lambda kv: kv[1]))\n",
    "    vectorizer = CountVectorizer(vocabulary=list(sorted_cat_dict.keys()), lowercase=False, binary=True)\n",
    "    return vectorizer.fit(df[column_name].values)"
   ]
  },
  {
   "cell_type": "markdown",
   "metadata": {},
   "source": [
    "<h2> A) Encoding clean_categories</h2>"
   ]
  },
  {
   "cell_type": "code",
   "execution_count": 40,
   "metadata": {},
   "outputs": [
    {
     "name": "stdout",
     "output_type": "stream",
     "text": [
      "Post Encoding: \n",
      "['Warmth', 'Care_Hunger', 'History_Civics', 'Health_Sports', 'Music_Arts', 'AppliedLearning', 'SpecialNeeds', 'Math_Science', 'Literacy_Language']\n",
      "****************************************************************************************************\n",
      "Encoded training sample: \n",
      "  (0, 6)\t1\n",
      "  (1, 7)\t1\n",
      "  (2, 8)\t1\n",
      "  (3, 7)\t1\n",
      "  (4, 7)\t1\n",
      "  (4, 8)\t1\n",
      "****************************************************************************************************\n",
      "Shape of matrix after one hot encodig  (38746, 9)\n",
      "Shape of matrix after one hot encodig  (9687, 9)\n",
      "Shape of matrix after one hot encodig  (12109, 9)\n",
      "****************************************************************************************************\n"
     ]
    }
   ],
   "source": [
    "vectorizer = get_categorical_vectorizer_for_training(X_train, 'clean_categories')\n",
    "\n",
    "categories_one_hot_train = vectorizer.transform(X_train['clean_categories'].values) \n",
    "categories_one_hot_cv = vectorizer.transform(X_cv['clean_categories'].values) \n",
    "categories_one_hot_test = vectorizer.transform(X_test['clean_categories'].values) \n",
    "\n",
    "print('Post Encoding: ')\n",
    "print(vectorizer.get_feature_names())\n",
    "\n",
    "print('*'*100)\n",
    "print('Encoded training sample: ')\n",
    "print(categories_one_hot_train[:5])   \n",
    "print('*'*100)\n",
    "\n",
    "print(\"Shape of matrix after one hot encodig \",categories_one_hot_train.shape)\n",
    "print(\"Shape of matrix after one hot encodig \",categories_one_hot_cv.shape)\n",
    "print(\"Shape of matrix after one hot encodig \",categories_one_hot_test.shape)\n",
    "\n",
    "print('*'*100)"
   ]
  },
  {
   "cell_type": "markdown",
   "metadata": {},
   "source": [
    "<h2> B) Encoding clean_subcategories</h2>"
   ]
  },
  {
   "cell_type": "code",
   "execution_count": 41,
   "metadata": {},
   "outputs": [
    {
     "name": "stdout",
     "output_type": "stream",
     "text": [
      "Post Encoding: \n",
      "['Economics', 'CommunityService', 'NutritionEducation', 'Civics_Government', 'FinancialLiteracy', 'ForeignLanguages', 'Extracurricular', 'ParentInvolvement', 'SocialSciences', 'CharacterEducation', 'PerformingArts', 'TeamSports', 'Other', 'Warmth', 'Care_Hunger', 'Gym_Fitness', 'College_CareerPrep', 'Music', 'History_Geography', 'Health_LifeScience', 'EarlyDevelopment', 'ESL', 'Health_Wellness', 'EnvironmentalScience', 'VisualArts', 'AppliedSciences', 'SpecialNeeds', 'Literature_Writing', 'Mathematics', 'Literacy']\n",
      "****************************************************************************************************\n",
      "Encoded training sample: \n",
      "  (0, 25)\t1\n",
      "  (0, 29)\t1\n",
      "  (1, 27)\t1\n",
      "  (2, 28)\t1\n",
      "  (2, 29)\t1\n",
      "  (3, 27)\t1\n",
      "  (3, 29)\t1\n",
      "  (4, 29)\t1\n",
      "****************************************************************************************************\n",
      "Shape of matrix after one hot encodig  (38746, 30)\n",
      "Shape of matrix after one hot encodig  (9687, 30)\n",
      "Shape of matrix after one hot encodig  (12109, 30)\n",
      "****************************************************************************************************\n"
     ]
    }
   ],
   "source": [
    "vectorizer = get_categorical_vectorizer_for_training(X_train, 'clean_subcategories')\n",
    "\n",
    "sub_categories_one_hot_train = vectorizer.transform(X_train['clean_subcategories'].values) \n",
    "sub_categories_one_hot_cv = vectorizer.transform(X_cv['clean_subcategories'].values) \n",
    "sub_categories_one_hot_test = vectorizer.transform(X_test['clean_subcategories'].values) \n",
    "\n",
    "print('Post Encoding: ')\n",
    "print(vectorizer.get_feature_names())\n",
    "\n",
    "print('*'*100)\n",
    "print('Encoded training sample: ')\n",
    "print(sub_categories_one_hot_train[5:10])   \n",
    "print('*'*100)\n",
    "\n",
    "print(\"Shape of matrix after one hot encodig \",sub_categories_one_hot_train.shape)\n",
    "print(\"Shape of matrix after one hot encodig \",sub_categories_one_hot_cv.shape)\n",
    "print(\"Shape of matrix after one hot encodig \",sub_categories_one_hot_test.shape)\n",
    "\n",
    "print('*'*100)"
   ]
  },
  {
   "cell_type": "markdown",
   "metadata": {},
   "source": [
    "<h2> C) Encoding school_state</h2>"
   ]
  },
  {
   "cell_type": "code",
   "execution_count": 42,
   "metadata": {},
   "outputs": [
    {
     "name": "stdout",
     "output_type": "stream",
     "text": [
      "Post Encoding: \n",
      "['VT', 'WY', 'ND', 'MT', 'NE', 'DE', 'SD', 'RI', 'AK', 'NH', 'WV', 'ME', 'DC', 'HI', 'IA', 'NM', 'KS', 'ID', 'AR', 'OR', 'CO', 'MN', 'KY', 'MS', 'NV', 'MD', 'UT', 'TN', 'CT', 'WI', 'AL', 'VA', 'LA', 'OK', 'AZ', 'WA', 'MO', 'OH', 'MA', 'NJ', 'IN', 'PA', 'MI', 'GA', 'SC', 'IL', 'NC', 'FL', 'TX', 'NY', 'CA']\n",
      "****************************************************************************************************\n",
      "Encoded training sample: \n",
      "  (0, 36)\t1\n",
      "  (1, 44)\t1\n",
      "  (2, 50)\t1\n",
      "  (3, 50)\t1\n",
      "  (4, 50)\t1\n",
      "****************************************************************************************************\n",
      "Shape of matrix after one hot encodig  (38746, 51)\n",
      "Shape of matrix after one hot encodig  (9687, 51)\n",
      "Shape of matrix after one hot encodig  (12109, 51)\n",
      "****************************************************************************************************\n"
     ]
    }
   ],
   "source": [
    "vectorizer = get_categorical_vectorizer_for_training(X_train, 'school_state')\n",
    "\n",
    "school_state_one_hot_train = vectorizer.transform(X_train['school_state'].values) \n",
    "school_state_one_hot_cv = vectorizer.transform(X_cv['school_state'].values) \n",
    "school_state_one_hot_test = vectorizer.transform(X_test['school_state'].values) \n",
    "\n",
    "print('Post Encoding: ')\n",
    "print(vectorizer.get_feature_names())\n",
    "\n",
    "print('*'*100)\n",
    "print('Encoded training sample: ')\n",
    "print(school_state_one_hot_train[:5])   \n",
    "print('*'*100)\n",
    "\n",
    "print(\"Shape of matrix after one hot encodig \",school_state_one_hot_train.shape)\n",
    "print(\"Shape of matrix after one hot encodig \",school_state_one_hot_cv.shape)\n",
    "print(\"Shape of matrix after one hot encodig \",school_state_one_hot_test.shape)\n",
    "\n",
    "print('*'*100)"
   ]
  },
  {
   "cell_type": "markdown",
   "metadata": {},
   "source": [
    "<h2> D) Encoding teacher_prefix</h2>\n"
   ]
  },
  {
   "cell_type": "code",
   "execution_count": 43,
   "metadata": {},
   "outputs": [
    {
     "name": "stdout",
     "output_type": "stream",
     "text": [
      "Post Encoding\n",
      "['Dr', 'Teacher', 'Mr', 'Ms', 'Mrs']\n",
      "****************************************************************************************************\n",
      "Encoded training sample: \n",
      "  (0, 3)\t1\n",
      "  (1, 4)\t1\n",
      "  (2, 2)\t1\n",
      "  (3, 3)\t1\n",
      "  (4, 1)\t1\n",
      "****************************************************************************************************\n",
      "Shape of matrix after one hot encodig  (38746, 5)\n",
      "Shape of matrix after one hot encodig  (9687, 5)\n",
      "Shape of matrix after one hot encodig  (12109, 5)\n",
      "****************************************************************************************************\n"
     ]
    }
   ],
   "source": [
    "vectorizer = get_categorical_vectorizer_for_training(X_train, 'teacher_prefix')\n",
    "\n",
    "teacher_prefix_one_hot_train = vectorizer.transform(X_train['teacher_prefix'].values) \n",
    "teacher_prefix_one_hot_cv = vectorizer.transform(X_cv['teacher_prefix'].values) \n",
    "teacher_prefix_one_hot_test = vectorizer.transform(X_test['teacher_prefix'].values) \n",
    "\n",
    "print('Post Encoding')\n",
    "print(vectorizer.get_feature_names())\n",
    "\n",
    "print('*'*100)\n",
    "print('Encoded training sample: ')\n",
    "print(teacher_prefix_one_hot_train[:5])   \n",
    "print('*'*100)\n",
    "\n",
    "print(\"Shape of matrix after one hot encodig \",teacher_prefix_one_hot_train.shape)\n",
    "print(\"Shape of matrix after one hot encodig \",teacher_prefix_one_hot_cv.shape)\n",
    "print(\"Shape of matrix after one hot encodig \",teacher_prefix_one_hot_test.shape)\n",
    "\n",
    "print('*'*100)"
   ]
  },
  {
   "cell_type": "markdown",
   "metadata": {},
   "source": [
    "<h2> E) Encoding project_grade_category</h2>\n"
   ]
  },
  {
   "cell_type": "code",
   "execution_count": 44,
   "metadata": {},
   "outputs": [
    {
     "name": "stdout",
     "output_type": "stream",
     "text": [
      "Post Encoding\n",
      "['Grades_9_12', 'Grades_6_8', 'Grades_3_5', 'Grades_PreK_2']\n",
      "****************************************************************************************************\n",
      "Encoded training sample: \n",
      "  (0, 1)\t1\n",
      "  (1, 0)\t1\n",
      "  (2, 1)\t1\n",
      "  (3, 3)\t1\n",
      "  (4, 0)\t1\n",
      "****************************************************************************************************\n",
      "Shape of matrix after one hot encodig  (38746, 4)\n",
      "Shape of matrix after one hot encodig  (9687, 4)\n",
      "Shape of matrix after one hot encodig  (12109, 4)\n",
      "****************************************************************************************************\n"
     ]
    }
   ],
   "source": [
    "vectorizer = get_categorical_vectorizer_for_training(X_train, 'project_grade_category')\n",
    "\n",
    "project_grade_category_one_hot_train = vectorizer.transform(X_train['project_grade_category'].values) \n",
    "project_grade_category_one_hot_cv = vectorizer.transform(X_cv['project_grade_category'].values) \n",
    "project_grade_category_one_hot_test = vectorizer.transform(X_test['project_grade_category'].values) \n",
    "\n",
    "print('Post Encoding')\n",
    "print(vectorizer.get_feature_names())\n",
    "\n",
    "print('*'*100)\n",
    "print('Encoded training sample: ')\n",
    "print(project_grade_category_one_hot_test[:5])   \n",
    "print('*'*100)\n",
    "\n",
    "print(\"Shape of matrix after one hot encodig \",project_grade_category_one_hot_train.shape)\n",
    "print(\"Shape of matrix after one hot encodig \",project_grade_category_one_hot_cv.shape)\n",
    "print(\"Shape of matrix after one hot encodig \",project_grade_category_one_hot_test.shape)\n",
    "\n",
    "print('*'*100)\n",
    "\n",
    "# final_df.head(2)"
   ]
  },
  {
   "cell_type": "markdown",
   "metadata": {},
   "source": [
    "<h2>2.2.3 Vectorizing Text features</h2>"
   ]
  },
  {
   "cell_type": "markdown",
   "metadata": {},
   "source": [
    "<h2> A) Bag of Words (BOW)</h2>"
   ]
  },
  {
   "cell_type": "markdown",
   "metadata": {},
   "source": [
    "<h3> Bag of Words - clean_essay</h3>"
   ]
  },
  {
   "cell_type": "code",
   "execution_count": 46,
   "metadata": {},
   "outputs": [
    {
     "name": "stdout",
     "output_type": "stream",
     "text": [
      "Post Vectorization\n",
      "Shape of matrix after bow vectorization of essay on train data  (38746, 10968)\n",
      "Shape of matrix after bow vectorization of essay on cv data (9687, 10968)\n",
      "Shape of matrix after bow vectorization of essay on test data (12109, 10968)\n",
      "****************************************************************************************************\n"
     ]
    }
   ],
   "source": [
    "# performing bow on essay field\n",
    "\n",
    "vectorizer = CountVectorizer(min_df=10)\n",
    "vectorizer.fit(X_train['clean_essay'])\n",
    "\n",
    "essay_bow_train = vectorizer.transform(X_train['clean_essay'])\n",
    "essay_bow_cv = vectorizer.transform(X_cv['clean_essay'])\n",
    "essay_bow_test = vectorizer.transform(X_test['clean_essay']) \n",
    "\n",
    "\n",
    "print('Post Vectorization')\n",
    "\n",
    "print(\"Shape of matrix after bow vectorization of essay on train data \",essay_bow_train.shape)\n",
    "print(\"Shape of matrix after bow vectorization of essay on cv data\",essay_bow_cv.shape)\n",
    "print(\"Shape of matrix after bow vectorization of essay on test data\",essay_bow_test.shape)\n",
    "\n",
    "print('*'*100)\n"
   ]
  },
  {
   "cell_type": "markdown",
   "metadata": {},
   "source": [
    "<h3> Bag of Words - clean_title</h3>"
   ]
  },
  {
   "cell_type": "code",
   "execution_count": 47,
   "metadata": {},
   "outputs": [
    {
     "name": "stdout",
     "output_type": "stream",
     "text": [
      "Post Vectorization: \n",
      "Shape of matrix after bow vectorization of title on train data  (38746, 1718)\n",
      "Shape of matrix after bow vectorization of title on cv data (9687, 1718)\n",
      "Shape of matrix after bow vectorization of title on test data (12109, 1718)\n",
      "****************************************************************************************************\n"
     ]
    }
   ],
   "source": [
    "vectorizer = CountVectorizer(min_df=10)\n",
    "vectorizer.fit(X_train['clean_title'])\n",
    "\n",
    "\n",
    "title_bow_train = vectorizer.transform(X_train['clean_title'])\n",
    "title_bow_cv = vectorizer.transform(X_cv['clean_title'])\n",
    "title_bow_test = vectorizer.transform(X_test['clean_title']) \n",
    "\n",
    "\n",
    "print('Post Vectorization: ')\n",
    "\n",
    "print(\"Shape of matrix after bow vectorization of title on train data \",title_bow_train.shape)\n",
    "print(\"Shape of matrix after bow vectorization of title on cv data\",title_bow_cv.shape)\n",
    "print(\"Shape of matrix after bow vectorization of title on test data\",title_bow_test.shape)\n",
    "\n",
    "print('*'*100)"
   ]
  },
  {
   "cell_type": "markdown",
   "metadata": {},
   "source": [
    "<h2> B) TFIDF Vectorizer</h2>"
   ]
  },
  {
   "cell_type": "markdown",
   "metadata": {},
   "source": [
    "<h3> TFIDF - clean_essay</h3>"
   ]
  },
  {
   "cell_type": "code",
   "execution_count": 48,
   "metadata": {},
   "outputs": [
    {
     "name": "stdout",
     "output_type": "stream",
     "text": [
      "Post Vectorization\n",
      "Shape of matrix after tfidf vectorization of title on train data  (38746, 1718)\n",
      "Shape of matrix after tfidf vectorization of title on cv data (9687, 1718)\n",
      "Shape of matrix after tfidf vectorization of title on test data (12109, 1718)\n",
      "****************************************************************************************************\n"
     ]
    }
   ],
   "source": [
    "vectorizer = TfidfVectorizer(min_df=10)\n",
    "vectorizer.fit(X_train['clean_title'])\n",
    "\n",
    "\n",
    "title_tfidf_train = vectorizer.transform(X_train['clean_title'])\n",
    "title_tfidf_cv = vectorizer.transform(X_cv['clean_title'])\n",
    "title_tfidf_test = vectorizer.transform(X_test['clean_title']) \n",
    "\n",
    "print('Post Vectorization')\n",
    "\n",
    "print(\"Shape of matrix after tfidf vectorization of title on train data \",title_tfidf_train.shape)\n",
    "print(\"Shape of matrix after tfidf vectorization of title on cv data\",title_tfidf_cv.shape)\n",
    "print(\"Shape of matrix after tfidf vectorization of title on test data\",title_tfidf_test.shape)\n",
    "print('*'*100)"
   ]
  },
  {
   "cell_type": "markdown",
   "metadata": {},
   "source": [
    "<h3> TFIDF - clean_title</h3>"
   ]
  },
  {
   "cell_type": "code",
   "execution_count": 49,
   "metadata": {},
   "outputs": [
    {
     "name": "stdout",
     "output_type": "stream",
     "text": [
      "Post Vectorization: \n",
      "Shape of matrix after tfidf vectorization of essay on train data  (38746, 10968)\n",
      "Shape of matrix after tfidf vectorization of essay on cv data (9687, 10968)\n",
      "Shape of matrix after tfidf vectorization of essay on test data (12109, 10968)\n",
      "****************************************************************************************************\n"
     ]
    }
   ],
   "source": [
    "vectorizer = TfidfVectorizer(min_df=10)\n",
    "vectorizer.fit(X_train['clean_essay'])\n",
    "\n",
    "\n",
    "essay_tfidf_train = vectorizer.transform(X_train['clean_essay'])\n",
    "essay_tfidf_cv = vectorizer.transform(X_cv['clean_essay'])\n",
    "essay_tfidf_test = vectorizer.transform(X_test['clean_essay']) \n",
    "\n",
    "print('Post Vectorization: ')\n",
    "\n",
    "print(\"Shape of matrix after tfidf vectorization of essay on train data \",essay_tfidf_train.shape)\n",
    "print(\"Shape of matrix after tfidf vectorization of essay on cv data\",essay_tfidf_cv.shape)\n",
    "print(\"Shape of matrix after tfidf vectorization of essay on test data\",essay_tfidf_test.shape)\n",
    "print('*'*100)"
   ]
  },
  {
   "cell_type": "markdown",
   "metadata": {},
   "source": [
    "<h2> C) Avg W2V</h2>"
   ]
  },
  {
   "cell_type": "code",
   "execution_count": 50,
   "metadata": {},
   "outputs": [],
   "source": [
    "# https://stackoverflow.com/questions/37793118/load-pretrained-glove-vectors-in-python\n",
    "\n",
    "import numpy as np\n",
    "def loadGloveModel(gloveFile):\n",
    "    print(\"Loading Glove Model\")\n",
    "    f = open(gloveFile,'r')\n",
    "    model = {}\n",
    "    for line in tqdm(f):\n",
    "        splitLine = line.split()\n",
    "        word = splitLine[0]\n",
    "        embedding = np.array([float(val) for val in splitLine[1:]])\n",
    "        model[word] = embedding\n",
    "    print(\"Done.\",len(model),\" words loaded!\")\n",
    "    return model"
   ]
  },
  {
   "cell_type": "code",
   "execution_count": 52,
   "metadata": {},
   "outputs": [
    {
     "name": "stderr",
     "output_type": "stream",
     "text": [
      "2054it [00:00, 10257.90it/s]"
     ]
    },
    {
     "name": "stdout",
     "output_type": "stream",
     "text": [
      "Loading Glove Model\n"
     ]
    },
    {
     "name": "stderr",
     "output_type": "stream",
     "text": [
      "1917495it [02:44, 11645.27it/s]"
     ]
    },
    {
     "name": "stdout",
     "output_type": "stream",
     "text": [
      "Done. 1917495  words loaded!\n"
     ]
    },
    {
     "name": "stderr",
     "output_type": "stream",
     "text": [
      "\n"
     ]
    }
   ],
   "source": [
    "glove_model = loadGloveModel('../resources/glove.42B.300d.txt')"
   ]
  },
  {
   "cell_type": "code",
   "execution_count": 62,
   "metadata": {},
   "outputs": [],
   "source": [
    "from gensim.models import Word2Vec\n",
    "from gensim.models import KeyedVectors\n",
    "\n",
    "def perform_avg_w2v(list_sent, w2v_model, w2v_words):\n",
    "    # average Word2Vec\n",
    "    # compute average word2vec for each review.\n",
    "    avg_w2v = []; # the avg-w2v for each sentence/review is stored in this list\n",
    "    for sent in tqdm(list_sent): # for each review/sentence\n",
    "        sent_vec = np.zeros(300) # as word vectors are of zero length 50, you might need to change this to 300 if you use google's w2v\n",
    "        cnt_words =0; # num of words with a valid vector in the sentence/review\n",
    "        for word in sent.split(): # for each word in a review/sentence\n",
    "            if word in w2v_words:\n",
    "                vec = w2v_model[word]\n",
    "                sent_vec += vec\n",
    "                cnt_words += 1\n",
    "        if cnt_words != 0:\n",
    "            sent_vec /= cnt_words\n",
    "        avg_w2v.append(sent_vec)\n",
    "    avg_w2v = np.array(avg_w2v)\n",
    "    return avg_w2v"
   ]
  },
  {
   "cell_type": "markdown",
   "metadata": {},
   "source": [
    "<h3> Avg W2V - clean_essay</h3>"
   ]
  },
  {
   "cell_type": "code",
   "execution_count": 63,
   "metadata": {},
   "outputs": [
    {
     "name": "stdout",
     "output_type": "stream",
     "text": [
      "all the words in the X_train clean_essay 5275914\n",
      "the unique words in the X_train clean_essay 37447\n",
      "The number of words that are present in both glove vectors and our X_train clean_essay are 34687 which is nearly 93.0% \n"
     ]
    }
   ],
   "source": [
    "train_essays_words = []\n",
    "for i in X_train['clean_essay'] :\n",
    "    train_essays_words.extend(i.split(' '))\n",
    "    \n",
    "# Find the total number of words in the Train data of Essays.\n",
    "print(\"all the words in the X_train clean_essay\", len(train_essays_words))   \n",
    " \n",
    "# Find the unique words in this set of words\n",
    "train_essays_words = set(train_essays_words)\n",
    "print(\"the unique words in the X_train clean_essay\", len(train_essays_words))\n",
    "\n",
    "\n",
    "common_words = set(glove_model.keys()).intersection(train_essays_words)\n",
    "print(\"The number of words that are present in both glove vectors and our X_train clean_essay are {} which is nearly {}% \"\n",
    "      .format(len(common_words), np.round((float(len(common_words))/len(train_essays_words)) *100)))"
   ]
  },
  {
   "cell_type": "code",
   "execution_count": 64,
   "metadata": {},
   "outputs": [
    {
     "name": "stdout",
     "output_type": "stream",
     "text": [
      "word2vec length of our X_train clean_essay 34687\n"
     ]
    }
   ],
   "source": [
    "corpus_train_essay_words = {}\n",
    "words_glove = set(glove_model.keys())\n",
    "for i in train_essays_words: \n",
    "    if i in words_glove:\n",
    "        corpus_train_essay_words[i] = glove_model[i]\n",
    "print(\"word2vec length of our X_train clean_essay\", len(corpus_train_essay_words))"
   ]
  },
  {
   "cell_type": "code",
   "execution_count": 65,
   "metadata": {},
   "outputs": [],
   "source": [
    "# storing variables into pickle files python: http://www.jessicayung.com/how-to-use-pickle-to-save-and-load-variables-in-python/\n",
    "import pickle\n",
    "with open('glove_vectors_w2v_clean_essay', 'wb') as f:\n",
    "    pickle.dump(corpus_train_essay_words, f)"
   ]
  },
  {
   "cell_type": "code",
   "execution_count": 66,
   "metadata": {},
   "outputs": [],
   "source": [
    "# loading stored vectors from pickle file\n",
    "with open('glove_vectors_w2v_clean_essay', 'rb') as f:\n",
    "    model = pickle.load(f) \n",
    "    glove_words_essay = set(model.keys())"
   ]
  },
  {
   "cell_type": "code",
   "execution_count": 67,
   "metadata": {},
   "outputs": [
    {
     "name": "stderr",
     "output_type": "stream",
     "text": [
      "100%|██████████| 38746/38746 [00:08<00:00, 4313.27it/s]\n",
      "100%|██████████| 9687/9687 [00:02<00:00, 4023.72it/s]\n",
      "100%|██████████| 12109/12109 [00:03<00:00, 4025.90it/s]"
     ]
    },
    {
     "name": "stdout",
     "output_type": "stream",
     "text": [
      "Post Vectorization: \n",
      "Shape of matrix after avg w2v vectorization of essay on train data  (38746, 300)\n",
      "Shape of matrix after avg w2v vectorization of essay on cv data (9687, 300)\n",
      "Shape of matrix after avg w2v vectorization of essay on test data (12109, 300)\n",
      "****************************************************************************************************\n"
     ]
    },
    {
     "name": "stderr",
     "output_type": "stream",
     "text": [
      "\n"
     ]
    }
   ],
   "source": [
    "essay_avg_w2v_train = perform_avg_w2v(X_train['clean_essay'], glove_model, glove_words_essay)\n",
    "essay_avg_w2v_cv = perform_avg_w2v(X_cv['clean_essay'], glove_model, glove_words_essay)\n",
    "essay_avg_w2v_test = perform_avg_w2v(X_test['clean_essay'], glove_model, glove_words_essay)\n",
    "\n",
    "print('Post Vectorization: ')\n",
    "\n",
    "print(\"Shape of matrix after avg w2v vectorization of essay on train data \",essay_avg_w2v_train.shape)\n",
    "print(\"Shape of matrix after avg w2v vectorization of essay on cv data\",essay_avg_w2v_cv.shape)\n",
    "print(\"Shape of matrix after avg w2v vectorization of essay on test data\",essay_avg_w2v_test.shape)\n",
    "print('*'*100)\n"
   ]
  },
  {
   "cell_type": "markdown",
   "metadata": {},
   "source": [
    "<h3> Avg W2V - clean_title</h3>"
   ]
  },
  {
   "cell_type": "code",
   "execution_count": 68,
   "metadata": {},
   "outputs": [
    {
     "name": "stdout",
     "output_type": "stream",
     "text": [
      "all the words in the X_train clean_title 142143\n",
      "the unique words in the X_train clean_title 10451\n",
      "The number of words that are present in both glove vectors and our X_train clean_essay are 10055 which is nearly 96.0% \n"
     ]
    }
   ],
   "source": [
    "train_title_words = []\n",
    "for i in X_train['clean_title'] :\n",
    "    train_title_words.extend(i.split(' '))\n",
    "    \n",
    "# Find the total number of words in the Train data of Essays.\n",
    "print(\"all the words in the X_train clean_title\", len(train_title_words))   \n",
    " \n",
    "# Find the unique words in this set of words\n",
    "train_title_words = set(train_title_words)\n",
    "print(\"the unique words in the X_train clean_title\", len(train_title_words))\n",
    "\n",
    "\n",
    "common_words = set(glove_model.keys()).intersection(train_title_words)\n",
    "print(\"The number of words that are present in both glove vectors and our X_train clean_essay are {} which is nearly {}% \"\n",
    "      .format(len(common_words), np.round((float(len(common_words))/len(train_title_words)) *100)))"
   ]
  },
  {
   "cell_type": "code",
   "execution_count": 69,
   "metadata": {},
   "outputs": [
    {
     "name": "stdout",
     "output_type": "stream",
     "text": [
      "word2vec length of our X_train clean_title 10055\n"
     ]
    }
   ],
   "source": [
    "corpus_train_title_words = {}\n",
    "words_glove = set(glove_model.keys())\n",
    "for i in train_title_words: \n",
    "    if i in words_glove:\n",
    "        corpus_train_title_words[i] = glove_model[i]\n",
    "print(\"word2vec length of our X_train clean_title\", len(corpus_train_title_words))"
   ]
  },
  {
   "cell_type": "code",
   "execution_count": 70,
   "metadata": {},
   "outputs": [],
   "source": [
    "# storing variables into pickle files python: http://www.jessicayung.com/how-to-use-pickle-to-save-and-load-variables-in-python/\n",
    "import pickle\n",
    "with open('glove_vectors_w2v_clean_title', 'wb') as f:\n",
    "    pickle.dump(corpus_train_title_words, f)"
   ]
  },
  {
   "cell_type": "code",
   "execution_count": 71,
   "metadata": {},
   "outputs": [],
   "source": [
    "# loading stored vectors from pickle file\n",
    "with open('glove_vectors_w2v_clean_title', 'rb') as f:\n",
    "    model = pickle.load(f) \n",
    "    glove_words_title = set(model.keys())"
   ]
  },
  {
   "cell_type": "code",
   "execution_count": 72,
   "metadata": {},
   "outputs": [
    {
     "name": "stderr",
     "output_type": "stream",
     "text": [
      "100%|██████████| 38746/38746 [00:00<00:00, 75067.60it/s]\n",
      "100%|██████████| 9687/9687 [00:00<00:00, 75887.75it/s]\n",
      "100%|██████████| 12109/12109 [00:00<00:00, 72865.04it/s]\n"
     ]
    },
    {
     "name": "stdout",
     "output_type": "stream",
     "text": [
      "Post Vectorization: \n",
      "Shape of matrix after avg w2v vectorization of title on train data  (38746, 300)\n",
      "Shape of matrix after avg w2v vectorization of title on cv data (9687, 300)\n",
      "Shape of matrix after avg w2v vectorization of title on test data (12109, 300)\n",
      "****************************************************************************************************\n"
     ]
    }
   ],
   "source": [
    "title_avg_w2v_train = perform_avg_w2v(X_train['clean_title'], glove_model, glove_words_title)\n",
    "title_avg_w2v_cv = perform_avg_w2v(X_cv['clean_title'], glove_model, glove_words_title)\n",
    "title_avg_w2v_test = perform_avg_w2v(X_test['clean_title'], glove_model, glove_words_title)\n",
    "\n",
    "\n",
    "print('Post Vectorization: ')\n",
    "\n",
    "print(\"Shape of matrix after avg w2v vectorization of title on train data \",title_avg_w2v_train.shape)\n",
    "print(\"Shape of matrix after avg w2v vectorization of title on cv data\",title_avg_w2v_cv.shape)\n",
    "print(\"Shape of matrix after avg w2v vectorization of title on test data\",title_avg_w2v_test.shape)\n",
    "print('*'*100)"
   ]
  },
  {
   "cell_type": "markdown",
   "metadata": {},
   "source": [
    "<h2> C) TF-IDF W2V</h2>"
   ]
  },
  {
   "cell_type": "code",
   "execution_count": 74,
   "metadata": {},
   "outputs": [],
   "source": [
    "#https://colab.research.google.com/drive/1j0xJr80XlDZkOKNf14nvPZxArc9bo7zm#scrollTo=CJ357mxWJBd8\n",
    "\n",
    "def perform_tfidf_w2v(preprocessed_text, glove_words, dictionary, tfidf_words, model):\n",
    "    tfidf_w2v = [];\n",
    "    for sentence in tqdm(preprocessed_text):\n",
    "        vector = np.zeros(300) # as word vectors are of zero length\n",
    "        tf_idf_weight =0; # num of words with a valid vector in the sentence\n",
    "        for word in sentence.split(): # for each word in a review/sentence\n",
    "            if (word in glove_words) and (word in tfidf_words):\n",
    "#             if word in tfidf_words:\n",
    "                vec = model[word] # getting the vector for each word\n",
    "#                 vec = tfidf_model[word]\n",
    "                # here we are multiplying idf value(dictionary[word]) and the tf value((sentence.count(word)/len(sentence.split())))\n",
    "                tf_idf = dictionary[word]*(sentence.count(word)/len(sentence.split())) # getting the tfidf value for each word\n",
    "                vector += (vec * tf_idf) # calculating tfidf weighted w2v\n",
    "                tf_idf_weight += tf_idf\n",
    "        if tf_idf_weight != 0:\n",
    "            vector /= tf_idf_weight\n",
    "        tfidf_w2v.append(vector)\n",
    "    \n",
    "    tfidf_w2v = np.array(tfidf_w2v)\n",
    "    return tfidf_w2v"
   ]
  },
  {
   "cell_type": "markdown",
   "metadata": {},
   "source": [
    "<h3> Tf-Idf W2V - clean_essay</h3>"
   ]
  },
  {
   "cell_type": "code",
   "execution_count": 75,
   "metadata": {},
   "outputs": [],
   "source": [
    "# performing tfidf_w2v on essay field\n",
    "\n",
    "tfidf_model = TfidfVectorizer()\n",
    "tfidf_model.fit(X_train['clean_essay'])\n",
    "\n",
    "dictionary = dict(zip(tfidf_model.get_feature_names(), list(tfidf_model.idf_)))\n",
    "tfidf_words = set(tfidf_model.get_feature_names())\n"
   ]
  },
  {
   "cell_type": "code",
   "execution_count": 76,
   "metadata": {},
   "outputs": [
    {
     "name": "stderr",
     "output_type": "stream",
     "text": [
      "100%|██████████| 38746/38746 [01:15<00:00, 510.94it/s]\n",
      "100%|██████████| 9687/9687 [00:17<00:00, 545.82it/s]\n",
      "100%|██████████| 12109/12109 [00:21<00:00, 572.98it/s]"
     ]
    },
    {
     "name": "stdout",
     "output_type": "stream",
     "text": [
      "Post Vectorization: \n",
      "Shape of matrix after tfidf w2v vectorization of essay on train data  (38746, 300)\n",
      "Shape of matrix after tfidf w2v vectorization of essay on cv data (9687, 300)\n",
      "Shape of matrix after tfidf w2v vectorization of essay on test data (12109, 300)\n",
      "****************************************************************************************************\n"
     ]
    },
    {
     "name": "stderr",
     "output_type": "stream",
     "text": [
      "\n"
     ]
    }
   ],
   "source": [
    "essay_tfidf_w2v_train = perform_tfidf_w2v(X_train['clean_essay'], glove_words_essay, dictionary, tfidf_words, glove_model)\n",
    "essay_tfidf_w2v_cv = perform_tfidf_w2v(X_cv['clean_essay'], glove_words_essay, dictionary, tfidf_words, glove_model)\n",
    "essay_tfidf_w2v_test = perform_tfidf_w2v(X_test['clean_essay'], glove_words_essay, dictionary, tfidf_words, glove_model)\n",
    "\n",
    "print('Post Vectorization: ')\n",
    "\n",
    "print(\"Shape of matrix after tfidf w2v vectorization of essay on train data \",essay_tfidf_w2v_train.shape)\n",
    "print(\"Shape of matrix after tfidf w2v vectorization of essay on cv data\",essay_tfidf_w2v_cv.shape)\n",
    "print(\"Shape of matrix after tfidf w2v vectorization of essay on test data\",essay_tfidf_w2v_test.shape)\n",
    "print('*'*100)\n"
   ]
  },
  {
   "cell_type": "markdown",
   "metadata": {},
   "source": [
    "<h3> Tf-Idf W2V - clean_title</h3>"
   ]
  },
  {
   "cell_type": "code",
   "execution_count": 77,
   "metadata": {},
   "outputs": [],
   "source": [
    "# performing tfidf_w2v on title field\n",
    "\n",
    "tfidf_model = TfidfVectorizer()\n",
    "tfidf_model.fit(X_train['clean_title'])\n",
    "\n",
    "dictionary = dict(zip(tfidf_model.get_feature_names(), list(tfidf_model.idf_)))\n",
    "tfidf_words = set(tfidf_model.get_feature_names())\n"
   ]
  },
  {
   "cell_type": "code",
   "execution_count": 78,
   "metadata": {},
   "outputs": [
    {
     "name": "stderr",
     "output_type": "stream",
     "text": [
      "100%|██████████| 38746/38746 [00:01<00:00, 35054.42it/s]\n",
      "100%|██████████| 9687/9687 [00:00<00:00, 33854.54it/s]\n",
      "100%|██████████| 12109/12109 [00:00<00:00, 32445.79it/s]\n"
     ]
    },
    {
     "name": "stdout",
     "output_type": "stream",
     "text": [
      "Post Vectorization: \n",
      "Shape of matrix after tfidf w2v vectorization of title on train data  (38746, 300)\n",
      "Shape of matrix after tfidf w2v vectorization of title on cv data (9687, 300)\n",
      "Shape of matrix after tfidf w2v vectorization of title on test data (12109, 300)\n",
      "****************************************************************************************************\n"
     ]
    }
   ],
   "source": [
    "title_tfidf_w2v_train = perform_tfidf_w2v(X_train['clean_title'], glove_words_title, dictionary, tfidf_words, glove_model)\n",
    "title_tfidf_w2v_cv = perform_tfidf_w2v(X_cv['clean_title'], glove_words_title, dictionary, tfidf_words, glove_model)\n",
    "title_tfidf_w2v_test = perform_tfidf_w2v(X_test['clean_title'], glove_words_title, dictionary, tfidf_words, glove_model)\n",
    "\n",
    "\n",
    "print('Post Vectorization: ')\n",
    "\n",
    "print(\"Shape of matrix after tfidf w2v vectorization of title on train data \",title_tfidf_w2v_train.shape)\n",
    "print(\"Shape of matrix after tfidf w2v vectorization of title on cv data\",title_tfidf_w2v_cv.shape)\n",
    "print(\"Shape of matrix after tfidf w2v vectorization of title on test data\",title_tfidf_w2v_test.shape)\n",
    "print('*'*100)\n"
   ]
  },
  {
   "cell_type": "markdown",
   "metadata": {
    "colab_type": "text",
    "id": "V3vrK7BSCypi"
   },
   "source": [
    "# Assignment 3: Apply KNN"
   ]
  },
  {
   "cell_type": "markdown",
   "metadata": {
    "colab_type": "text",
    "id": "WFI1ug-gCypi"
   },
   "source": [
    "<ol>\n",
    "    <li><strong>[Task-1] Apply KNN(brute force version) on these feature sets</strong>\n",
    "        <ul>\n",
    "            <li><font color='red'>Set 1</font>: categorical, numerical features + project_title(BOW) + preprocessed_essay (BOW)</li>\n",
    "            <li><font color='red'>Set 2</font>: categorical, numerical features + project_title(TFIDF)+  preprocessed_essay (TFIDF)</li>\n",
    "            <li><font color='red'>Set 3</font>: categorical, numerical features + project_title(AVG W2V)+  preprocessed_essay (AVG W2V)</li>\n",
    "            <li><font color='red'>Set 4</font>: categorical, numerical features + project_title(TFIDF W2V)+  preprocessed_essay (TFIDF W2V)</li>\n",
    "        </ul>\n",
    "    </li>\n",
    "    <br>\n",
    "    <li><strong>Hyper paramter tuning to find best K</strong>\n",
    "        <ul>\n",
    "    <li>Find the best hyper parameter which results in the maximum <a href='https://www.appliedaicourse.com/course/applied-ai-course-online/lessons/receiver-operating-characteristic-curve-roc-curve-and-auc-1/'>AUC</a> value</li>\n",
    "    <li>Find the best hyper paramter using k-fold cross validation (or) simple cross validation data</li>\n",
    "    <li>Use gridsearch-cv or randomsearch-cv or  write your own for loops to do this task</li>\n",
    "        </ul>\n",
    "    </li>\n",
    "    <br>\n",
    "    <li>\n",
    "    <strong>Representation of results</strong>\n",
    "        <ul>\n",
    "    <li>You need to plot the performance of model both on train data and cross validation data for each hyper parameter, as shown in the figure\n",
    "    <img src='../resources/train_cv_auc.JPG' width=300px></li>\n",
    "    <li>Once you find the best hyper parameter, you need to train your model-M using the best hyper-param. Now, find the AUC on test data and plot the ROC curve on both train and test using model-M.\n",
    "    <img src='../resources/train_test_auc.JPG' width=300px></li>\n",
    "    <li>Along with plotting ROC curve, you need to print the <a href='https://www.appliedaicourse.com/course/applied-ai-course-online/lessons/confusion-matrix-tpr-fpr-fnr-tnr-1/'>confusion matrix</a> with predicted and original labels of test data points\n",
    "    <img src='../resources/confusion_matrix.png' width=300px></li>\n",
    "        </ul>\n",
    "    </li>\n",
    "    <li><strong> [Task-2] </strong>\n",
    "        <ul>\n",
    "            <li>Select top 2000 features from feature <font color='red'>Set 2</font> using <a href='https://scikit-learn.org/stable/modules/generated/sklearn.feature_selection.SelectKBest.html'>`SelectKBest`</a>\n",
    "and then apply KNN on top of these features</li>\n",
    "            <li>\n",
    "                <pre>\n",
    "                from sklearn.datasets import load_digits\n",
    "                from sklearn.feature_selection import SelectKBest, chi2\n",
    "                X, y = load_digits(return_X_y=True)\n",
    "                X.shape\n",
    "                X_new = SelectKBest(chi2, k=20).fit_transform(X, y)\n",
    "                X_new.shape\n",
    "                ========\n",
    "                output:\n",
    "                (1797, 64)\n",
    "                (1797, 20)\n",
    "                </pre>\n",
    "            </li>\n",
    "            <li>Repeat the steps 2 and 3 on the data matrix after feature selection</li>\n",
    "        </ul>\n",
    "    </li>\n",
    "    <br>\n",
    "    <li><strong>Conclusion</strong>\n",
    "        <ul>\n",
    "    <li>You need to summarize the results at the end of the notebook, summarize it in the table format. To print out a table please refer to this prettytable library<a href='http://zetcode.com/python/prettytable/'> link</a> \n",
    "        <img src='../resources/summary.JPG' width=400px>\n",
    "    </li>\n",
    "        </ul>\n",
    "</ol>"
   ]
  },
  {
   "cell_type": "markdown",
   "metadata": {
    "colab_type": "text",
    "id": "vNcsOaPrCypk"
   },
   "source": [
    "<h4><font color='red'>Note: Data Leakage</font></h4>\n",
    "\n",
    "1. There will be an issue of data-leakage if you vectorize the entire data and then split it into train/cv/test.\n",
    "2. To avoid the issue of data-leakag, make sure to split your data first and then vectorize it. \n",
    "3. While vectorizing your data, apply the method fit_transform() on you train data, and apply the method transform() on cv/test data.\n",
    "4. For more details please go through this <a href='https://soundcloud.com/applied-ai-course/leakage-bow-and-tfidf'>link.</a>"
   ]
  },
  {
   "cell_type": "markdown",
   "metadata": {},
   "source": [
    "# Merging all the above features\n",
    "* we need to merge all the numerical vectors i.e catogorical, text, numerical vectors"
   ]
  },
  {
   "cell_type": "markdown",
   "metadata": {
    "colab_type": "text",
    "id": "u7svGNyWCypl"
   },
   "source": [
    "<h1>3. K Nearest Neighbor</h1>"
   ]
  },
  {
   "cell_type": "markdown",
   "metadata": {
    "colab_type": "text",
    "id": "W6fBRNBMCypl"
   },
   "source": [
    "<h2>3.1 Splitting data into Train and cross validation(or test): Stratified Sampling</h2>"
   ]
  },
  {
   "cell_type": "code",
   "execution_count": 79,
   "metadata": {
    "colab": {},
    "colab_type": "code",
    "id": "Tsay467cCypt"
   },
   "outputs": [],
   "source": [
    "import matplotlib.pyplot as plt\n",
    "# from sklearn.cross_validation import train_test_split\n",
    "from sklearn.neighbors import KNeighborsClassifier\n",
    "from sklearn.metrics import accuracy_score\n",
    "from sklearn.model_selection import cross_val_score\n",
    "from collections import Counter\n",
    "from sklearn.metrics import accuracy_score\n",
    "# from sklearn import cross_validation\n",
    "from scipy.sparse import hstack\n",
    "\n",
    "from sklearn.neighbors import NearestNeighbors\n",
    "from sklearn.metrics import roc_curve, auc, roc_auc_score\n",
    "\n",
    "# creating odd list of K for KNN\n",
    "myList = list(range(0,16))\n",
    "k_values = [1, 5, 10, 15, 21, 31, 41, 51]\n",
    "\n",
    "\n",
    "def batch_predict(clf, data, is_predict_prob=True):\n",
    "    # roc_auc_score(y_true, y_score) the 2nd parameter should be probability estimates of the positive class\n",
    "    # not the predicted outputs\n",
    "    y_data_pred = []\n",
    "    tr_loop = data.shape[0] - data.shape[0]%3000\n",
    "    # consider you X_tr shape is 49041, then your cr_loop will be 49041 - 49041%1000 = 49000 # in this for loop we will iterate unti the last 1000 multiplier\n",
    "    for i in range(0, tr_loop, 1000):\n",
    "        if is_predict_prob:\n",
    "            y_data_pred.extend(clf.predict_proba(data[i:i+1000])[:,1])\n",
    "        else:\n",
    "            y_data_pred.extend(clf.predict(data[i:i+1000]))\n",
    "        # we will be predicting for the last data points\n",
    "    if data[tr_loop:].shape[0] != 0: \n",
    "        if is_predict_prob:\n",
    "            y_data_pred.extend(clf.predict_proba(data[tr_loop:])[:,1])\n",
    "        else:\n",
    "            y_data_pred.extend(clf.predict(data[tr_loop:]))        \n",
    "    return y_data_pred\n",
    "\n",
    "\n",
    "        \n",
    "def find_best_k_using_auc(X_tr, y_tr, X_cv, y_cv):\n",
    "    '''\n",
    "     This func will accept train and cv data and return the best k\n",
    "    '''\n",
    "    train_auc = []\n",
    "    cv_auc = []\n",
    "    X_tr = X_tr\n",
    "    X_cv = X_cv\n",
    "    shape_tr = X_tr.shape[0]\n",
    "    shape_cv = X_cv.shape[0]\n",
    "        \n",
    "    for k in tqdm(k_values):\n",
    "        # instantiate learning model (k = 30)\n",
    "        knn = KNeighborsClassifier(n_neighbors=k, algorithm='brute')\n",
    "        knn.fit(X_tr, y_tr)\n",
    "        \n",
    "        y_train_pred =  batch_predict(knn, X_tr, True )\n",
    "        y_cv_pred =  batch_predict(knn, X_cv, True )        \n",
    "        \n",
    "        train_auc.append(roc_auc_score(y_tr, y_train_pred))\n",
    "        cv_auc.append(roc_auc_score(y_cv, y_cv_pred))        \n",
    "\n",
    "    # determining best k\n",
    "    optimal_k = k_values[cv_auc.index(max(cv_auc))]\n",
    "    print('\\nThe optimal number of neighbors is %d.' % optimal_k)\n",
    "    return optimal_k, train_auc, cv_auc\n",
    "\n",
    "\n",
    "def plot_k_vs_roc(train_auc, cv_auc):\n",
    "    '''\n",
    "    This func will plot K-values versus CV AUC \n",
    "    '''\n",
    "    plt.plot(k_values,train_auc, label='Train AUC')\n",
    "    plt.scatter(k_values, train_auc, label='Train AUC')    \n",
    "    plt.plot(k_values,cv_auc, label='CV AUC')\n",
    "    plt.scatter(k_values, cv_auc, label='CV AUC')\n",
    "    plt.xlabel(\"K: hyperparameter\")\n",
    "    plt.ylabel(\"AUC\")\n",
    "    plt.title(\"ERROR PLOTS\")\n",
    "    plt.legend()\n",
    "    plt.show()"
   ]
  },
  {
   "cell_type": "code",
   "execution_count": 80,
   "metadata": {},
   "outputs": [],
   "source": [
    "import itertools\n",
    "\n",
    "def plot_confusion_matrix(cm, classes,\n",
    "                          normalize=False,\n",
    "                          title='Confusion matrix',\n",
    "                          cmap=plt.cm.Blues):\n",
    "    \"\"\"\n",
    "    This function prints and plots the confusion matrix.\n",
    "    Normalization can be applied by setting `normalize=True`.\n",
    "    \"\"\"\n",
    "    if normalize:\n",
    "        cm = cm.astype('float') / cm.sum(axis=1)[:, np.newaxis]\n",
    "        print(\"Normalized confusion matrix\")\n",
    "    else:\n",
    "        print('Confusion matrix, without normalization')\n",
    "\n",
    "    plt.imshow(cm, interpolation='nearest', cmap=cmap)\n",
    "    plt.title(title)\n",
    "    plt.colorbar()\n",
    "    tick_marks = np.arange(len(classes))\n",
    "    plt.xticks(tick_marks, classes, rotation=45)\n",
    "    plt.yticks(tick_marks, classes)\n",
    "\n",
    "    fmt = '.2f' if normalize else 'd'\n",
    "    \n",
    "    thresh = (cm.max() / 2) + 100\n",
    "    for i, j in itertools.product(range(cm.shape[0]), range(cm.shape[1])):\n",
    "        plt.text(j, i, format(cm[i, j], fmt),\n",
    "                 horizontalalignment=\"center\",\n",
    "                 color=\"white\" if cm[i, j] > thresh else \"black\")\n",
    "\n",
    "    plt.ylabel('True label')\n",
    "    plt.xlabel('Predicted label')\n",
    "    plt.tight_layout()"
   ]
  },
  {
   "cell_type": "code",
   "execution_count": 81,
   "metadata": {},
   "outputs": [],
   "source": [
    "def predict(proba, threshold, fpr, tpr):\n",
    "    t = threshold[np.argmax(fpr*(1-tpr))]\n",
    "    # (tpr*(1-fpr)) will be maximum if your fpr is very low and tpr is very high\n",
    "    print(\"the maximum value of tpr*(1-fpr)\", max(tpr*(1-fpr)), \"for threshold\", np.round(t,3))\n",
    "    predictions = []\n",
    "    for i in proba:\n",
    "        if i>=t: \n",
    "            predictions.append(1)\n",
    "        else: \n",
    "            predictions.append(0)\n",
    "    return predictions\n",
    "\n",
    "\n",
    "\n",
    "# (confusion_matrix(y_train, predict(y_train_pred, thresh1, fpr_train, tpr_train)))\n",
    "\n",
    "\n",
    "def compute_confusion_matrix(y_actual, y_pred, threshold, fpr, tpr):\n",
    "    '''\n",
    "     This func will compute and plot confusion matrix on test data\n",
    "    '''\n",
    "    \n",
    "    class_names = [0, 1]\n",
    "    cnf_matrix = confusion_matrix(y_actual, predict(y_pred, threshold, fpr, tpr))\n",
    "    np.set_printoptions(precision=2)\n",
    "\n",
    "    # Plot non-normalized confusion matrix\n",
    "    plt.figure()\n",
    "    plot_confusion_matrix(cnf_matrix,classes=class_names,\n",
    "                          title='Confusion matrix, without normalization')\n",
    "\n",
    "    # Plot normalized confusion matrix\n",
    "    plt.figure()\n",
    "    plot_confusion_matrix(cnf_matrix, classes=class_names, normalize=True,\n",
    "                          title='Normalized confusion matrix')\n",
    "    plt.show()\n",
    "    print('*'*70) "
   ]
  },
  {
   "cell_type": "markdown",
   "metadata": {
    "colab_type": "text",
    "id": "B1dIm8PiCypw"
   },
   "source": [
    "### Set1: categorical, numerical features + project_title(BOW) + preprocessed_essay (BOW)\n",
    "\n",
    "#### 2.4.1 Applying KNN brute force on BOW,<font color='red'> SET 1</font>"
   ]
  },
  {
   "cell_type": "code",
   "execution_count": 82,
   "metadata": {
    "colab": {},
    "colab_type": "code",
    "id": "5VCLzbIoCypy"
   },
   "outputs": [],
   "source": [
    "# Please write all the code with proper documentation\n",
    "\n",
    "X_train_set1 = hstack((categories_one_hot_train, sub_categories_one_hot_train,\n",
    "           school_state_one_hot_train, teacher_prefix_one_hot_train,\n",
    "           project_grade_category_one_hot_train, price_train, quantity_train,\n",
    "           prev_teacher_proj_train, title_word_count_train, essay_word_count_train,\n",
    "           essay_bow_train, title_bow_train)).tocsr()\n",
    "\n",
    "X_cv_set1 = hstack((categories_one_hot_cv, sub_categories_one_hot_cv,\n",
    "           school_state_one_hot_cv, teacher_prefix_one_hot_cv,\n",
    "           project_grade_category_one_hot_cv, price_cv, quantity_cv,\n",
    "           prev_teacher_proj_cv, title_word_count_cv, essay_word_count_cv,\n",
    "           essay_bow_cv, title_bow_cv)).tocsr()\n",
    "\n",
    "X_test_set1 = hstack((categories_one_hot_test, sub_categories_one_hot_test,\n",
    "           school_state_one_hot_test, teacher_prefix_one_hot_test,\n",
    "           project_grade_category_one_hot_test, price_test, quantity_test,\n",
    "           prev_teacher_proj_test, title_word_count_test, essay_word_count_test,\n",
    "           essay_bow_test, title_bow_test)).tocsr()"
   ]
  },
  {
   "cell_type": "code",
   "execution_count": 83,
   "metadata": {},
   "outputs": [
    {
     "name": "stdout",
     "output_type": "stream",
     "text": [
      "Final Data matrix for set1\n",
      "(38746, 12790) (38746,)\n",
      "(9687, 12790) (9687,)\n",
      "(12109, 12790) (12109,)\n",
      "====================================================================================================\n"
     ]
    }
   ],
   "source": [
    "print(\"Final Data matrix for set1\")\n",
    "print(X_train_set1.shape, y_train.shape)\n",
    "print(X_cv_set1.shape, y_cv.shape)\n",
    "print(X_test_set1.shape, y_test.shape)\n",
    "print(\"=\"*100)\n"
   ]
  },
  {
   "cell_type": "markdown",
   "metadata": {},
   "source": [
    "## A) Find the best hyper parameter which results in the maximum AUC value"
   ]
  },
  {
   "cell_type": "code",
   "execution_count": 84,
   "metadata": {},
   "outputs": [
    {
     "name": "stderr",
     "output_type": "stream",
     "text": [
      "100%|██████████| 8/8 [18:30<00:00, 138.38s/it]"
     ]
    },
    {
     "name": "stdout",
     "output_type": "stream",
     "text": [
      "\n",
      "The optimal number of neighbors is 41.\n"
     ]
    },
    {
     "name": "stderr",
     "output_type": "stream",
     "text": [
      "\n"
     ]
    }
   ],
   "source": [
    "best_k_set1, train_auc, cv_auc = find_best_k_using_auc(X_train_set1, y_train, X_cv_set1, y_cv)"
   ]
  },
  {
   "cell_type": "code",
   "execution_count": 85,
   "metadata": {},
   "outputs": [
    {
     "data": {
      "image/png": "[encoded data removed]",
      "text/plain": [
       "<Figure size 432x288 with 1 Axes>"
      ]
     },
     "metadata": {
      "needs_background": "light"
     },
     "output_type": "display_data"
    }
   ],
   "source": [
    "# plot showing performance of model both on train data and cross validation data for each hyper parameter\n",
    "plot_k_vs_roc(train_auc, cv_auc)"
   ]
  },
  {
   "cell_type": "markdown",
   "metadata": {},
   "source": [
    "## B) Train model with best hyper-parameter value"
   ]
  },
  {
   "cell_type": "code",
   "execution_count": 86,
   "metadata": {},
   "outputs": [],
   "source": [
    "knn = KNeighborsClassifier(best_k_set1)\n",
    "knn.fit(X_train_set1,y_train)\n",
    "\n",
    "# print(X_test_set1)\n",
    "y_train_pred = batch_predict( knn, X_train_set1)\n",
    "y_test_pred = batch_predict( knn, X_test_set1)\n",
    "\n",
    "\n",
    "fpr_train, tpr_train, thresh1 = roc_curve(y_train, y_train_pred)\n",
    "fpr_test, tpr_test, thresh = roc_curve(y_test, y_test_pred)\n",
    "\n",
    "\n",
    "\n",
    "test_auc_set1 = roc_auc_score(y_test, y_test_pred)"
   ]
  },
  {
   "cell_type": "code",
   "execution_count": 87,
   "metadata": {},
   "outputs": [
    {
     "data": {
      "image/png": "[encoded data removed]",
      "text/plain": [
       "<Figure size 432x288 with 1 Axes>"
      ]
     },
     "metadata": {
      "needs_background": "light"
     },
     "output_type": "display_data"
    }
   ],
   "source": [
    "plt.plot(fpr_train,tpr_train, label='Train ROC, AUC ='+str(auc(fpr_train, tpr_train)));\n",
    "plt.plot(fpr_test,tpr_test, label='Test ROC, AUC ='+str(auc(fpr_test, tpr_test)))\n",
    "plt.xlabel('False Positive Rate (FPR)') \n",
    "plt.ylabel(\"True Positive Rate (TPR)\")\n",
    "plt.title('Plot of FPR vs TPR')    \n",
    "plt.legend()\n",
    "plt.show()"
   ]
  },
  {
   "cell_type": "markdown",
   "metadata": {},
   "source": [
    "## D) Confusion Matrix"
   ]
  },
  {
   "cell_type": "markdown",
   "metadata": {},
   "source": [
    "### Train Set"
   ]
  },
  {
   "cell_type": "code",
   "execution_count": 88,
   "metadata": {},
   "outputs": [
    {
     "name": "stdout",
     "output_type": "stream",
     "text": [
      "====================================================================================================\n",
      "Train confusion matrix\n",
      "the maximum value of tpr*(1-fpr) 0.4358758918280356 for threshold 0.659\n",
      "Confusion matrix, without normalization\n",
      "Normalized confusion matrix\n"
     ]
    },
    {
     "data": {
      "image/png": "[encoded data removed]",
      "text/plain": [
       "<Figure size 432x288 with 2 Axes>"
      ]
     },
     "metadata": {
      "needs_background": "light"
     },
     "output_type": "display_data"
    },
    {
     "data": {
      "image/png": "[encoded data removed]",
      "text/plain": [
       "<Figure size 432x288 with 2 Axes>"
      ]
     },
     "metadata": {
      "needs_background": "light"
     },
     "output_type": "display_data"
    },
    {
     "name": "stdout",
     "output_type": "stream",
     "text": [
      "**********************************************************************\n"
     ]
    }
   ],
   "source": [
    "# computa and plot confusion matrix for train data\n",
    "print(\"=\"*100)\n",
    "print(\"Train confusion matrix\")\n",
    "\n",
    "compute_confusion_matrix(y_train, y_train_pred, thresh1, fpr_train, tpr_train)"
   ]
  },
  {
   "cell_type": "markdown",
   "metadata": {},
   "source": [
    "### Test Set"
   ]
  },
  {
   "cell_type": "code",
   "execution_count": 89,
   "metadata": {},
   "outputs": [
    {
     "name": "stdout",
     "output_type": "stream",
     "text": [
      "====================================================================================================\n",
      "Test confusion matrix\n",
      "the maximum value of tpr*(1-fpr) 0.3825717736205135 for threshold 0.659\n",
      "Confusion matrix, without normalization\n",
      "Normalized confusion matrix\n"
     ]
    },
    {
     "data": {
      "image/png": "[encoded data removed]",
      "text/plain": [
       "<Figure size 432x288 with 2 Axes>"
      ]
     },
     "metadata": {
      "needs_background": "light"
     },
     "output_type": "display_data"
    },
    {
     "data": {
      "image/png": "[encoded data removed]",
      "text/plain": [
       "<Figure size 432x288 with 2 Axes>"
      ]
     },
     "metadata": {
      "needs_background": "light"
     },
     "output_type": "display_data"
    },
    {
     "name": "stdout",
     "output_type": "stream",
     "text": [
      "**********************************************************************\n"
     ]
    }
   ],
   "source": [
    "print(\"=\"*100)\n",
    "print(\"Test confusion matrix\")\n",
    "# computa and plot confusion matrix for test data\n",
    "\n",
    "compute_confusion_matrix(y_test, y_test_pred, thresh, fpr_test, tpr_test)"
   ]
  },
  {
   "cell_type": "markdown",
   "metadata": {},
   "source": [
    "<h3>Observations</h3>\n",
    "\n",
    "* We get k=41 as best value of k.\n",
    "* Our model's AUC is quite better than that of a random model."
   ]
  },
  {
   "cell_type": "markdown",
   "metadata": {
    "colab_type": "text",
    "id": "s85gPOAbCyp1"
   },
   "source": [
    "## Set 2: categorical, numerical features + project_title(TFIDF)+ preprocessed_essay (TFIDF)\n",
    "### 2.4.2 Applying KNN brute force on TFIDF,<font color='red'> SET 2</font>"
   ]
  },
  {
   "cell_type": "code",
   "execution_count": 90,
   "metadata": {},
   "outputs": [],
   "source": [
    "# Please write all the code with proper documentation\n",
    "\n",
    "X_train_set2 = hstack((categories_one_hot_train, sub_categories_one_hot_train,\n",
    "           school_state_one_hot_train, teacher_prefix_one_hot_train,\n",
    "           project_grade_category_one_hot_train, price_train, quantity_train,\n",
    "           prev_teacher_proj_train, title_word_count_train, essay_word_count_train,\n",
    "           essay_tfidf_train, title_tfidf_train)).tocsr()\n",
    "\n",
    "X_cv_set2 = hstack((categories_one_hot_cv, sub_categories_one_hot_cv,\n",
    "           school_state_one_hot_cv, teacher_prefix_one_hot_cv,\n",
    "           project_grade_category_one_hot_cv, price_cv, quantity_cv,\n",
    "           prev_teacher_proj_cv, title_word_count_cv, essay_word_count_cv,\n",
    "           essay_tfidf_cv, title_tfidf_cv)).tocsr()\n",
    "\n",
    "X_test_set2 = hstack((categories_one_hot_test, sub_categories_one_hot_test,\n",
    "           school_state_one_hot_test, teacher_prefix_one_hot_test,\n",
    "           project_grade_category_one_hot_test, price_test, quantity_test,\n",
    "           prev_teacher_proj_test, title_word_count_test, essay_word_count_test,\n",
    "           essay_tfidf_test, title_tfidf_test)).tocsr()"
   ]
  },
  {
   "cell_type": "code",
   "execution_count": 91,
   "metadata": {},
   "outputs": [
    {
     "name": "stdout",
     "output_type": "stream",
     "text": [
      "Final Data matrix for set2\n",
      "(38746, 12790) (38746,)\n",
      "(9687, 12790) (9687,)\n",
      "(12109, 12790) (12109,)\n",
      "====================================================================================================\n"
     ]
    }
   ],
   "source": [
    "print(\"Final Data matrix for set2\")\n",
    "print(X_train_set2.shape, y_train.shape)\n",
    "print(X_cv_set2.shape, y_cv.shape)\n",
    "print(X_test_set2.shape, y_test.shape)\n",
    "print(\"=\"*100)"
   ]
  },
  {
   "cell_type": "markdown",
   "metadata": {},
   "source": [
    "## A) Find the best hyper parameter which results in the maximum AUC value"
   ]
  },
  {
   "cell_type": "code",
   "execution_count": 92,
   "metadata": {},
   "outputs": [
    {
     "name": "stderr",
     "output_type": "stream",
     "text": [
      "100%|██████████| 8/8 [18:42<00:00, 140.86s/it]"
     ]
    },
    {
     "name": "stdout",
     "output_type": "stream",
     "text": [
      "\n",
      "The optimal number of neighbors is 51.\n"
     ]
    },
    {
     "name": "stderr",
     "output_type": "stream",
     "text": [
      "\n"
     ]
    }
   ],
   "source": [
    "best_k_set2, train_auc, cv_auc = find_best_k_using_auc(X_train_set2, y_train, X_cv_set2, y_cv)"
   ]
  },
  {
   "cell_type": "code",
   "execution_count": 93,
   "metadata": {},
   "outputs": [
    {
     "data": {
      "image/png": "[encoded data removed]",
      "text/plain": [
       "<Figure size 432x288 with 1 Axes>"
      ]
     },
     "metadata": {
      "needs_background": "light"
     },
     "output_type": "display_data"
    }
   ],
   "source": [
    "# plot showing performance of model both on train data and cross validation data for each hyper parameter\n",
    "plot_k_vs_roc(train_auc, cv_auc)"
   ]
  },
  {
   "cell_type": "markdown",
   "metadata": {},
   "source": [
    "## B) Train model with best hyper-parameter value"
   ]
  },
  {
   "cell_type": "code",
   "execution_count": 94,
   "metadata": {},
   "outputs": [],
   "source": [
    "knn = KNeighborsClassifier(best_k_set2)\n",
    "knn.fit(X_train_set2,y_train)\n",
    "\n",
    "# print(X_test_set1)\n",
    "y_train_pred = batch_predict( knn, X_train_set2)\n",
    "y_test_pred = batch_predict( knn, X_test_set2)\n",
    "\n",
    "\n",
    "fpr_train, tpr_train, thresh1 = roc_curve(y_train, y_train_pred)\n",
    "fpr_test, tpr_test, thresh = roc_curve(y_test, y_test_pred)\n",
    "test_auc_set2 = roc_auc_score(y_test, y_test_pred)"
   ]
  },
  {
   "cell_type": "code",
   "execution_count": 95,
   "metadata": {},
   "outputs": [
    {
     "data": {
      "image/png": "[encoded data removed]",
      "text/plain": [
       "<Figure size 432x288 with 1 Axes>"
      ]
     },
     "metadata": {
      "needs_background": "light"
     },
     "output_type": "display_data"
    }
   ],
   "source": [
    "\n",
    "plt.plot(fpr_train,tpr_train, label='Train ROC, AUC ='+str(auc(fpr_train, tpr_train)));\n",
    "plt.plot(fpr_test,tpr_test, label='Test ROC, AUC ='+str(auc(fpr_test, tpr_test)))\n",
    "plt.xlabel('False Positive Rate (FPR)') \n",
    "plt.ylabel(\"True Positive Rate (TPR)\")\n",
    "plt.title('Plot of FPR vs TPR')    \n",
    "plt.legend()\n",
    "plt.show()"
   ]
  },
  {
   "cell_type": "markdown",
   "metadata": {},
   "source": [
    "## D) Confusion Matrix\n",
    "### Train Set"
   ]
  },
  {
   "cell_type": "code",
   "execution_count": 96,
   "metadata": {},
   "outputs": [
    {
     "name": "stdout",
     "output_type": "stream",
     "text": [
      "====================================================================================================\n",
      "Train confusion matrix\n",
      "the maximum value of tpr*(1-fpr) 0.42603168559242494 for threshold 0.745\n",
      "Confusion matrix, without normalization\n",
      "Normalized confusion matrix\n"
     ]
    },
    {
     "data": {
      "image/png": "[encoded data removed]",
      "text/plain": [
       "<Figure size 432x288 with 2 Axes>"
      ]
     },
     "metadata": {
      "needs_background": "light"
     },
     "output_type": "display_data"
    },
    {
     "data": {
      "image/png": "[encoded data removed]",
      "text/plain": [
       "<Figure size 432x288 with 2 Axes>"
      ]
     },
     "metadata": {
      "needs_background": "light"
     },
     "output_type": "display_data"
    },
    {
     "name": "stdout",
     "output_type": "stream",
     "text": [
      "**********************************************************************\n"
     ]
    }
   ],
   "source": [
    "# computa and plot confusion matrix for train data\n",
    "print(\"=\"*100)\n",
    "print(\"Train confusion matrix\")\n",
    "compute_confusion_matrix(y_train, y_train_pred, thresh1, fpr_train, tpr_train)"
   ]
  },
  {
   "cell_type": "markdown",
   "metadata": {},
   "source": [
    "### Test Set"
   ]
  },
  {
   "cell_type": "code",
   "execution_count": 97,
   "metadata": {},
   "outputs": [
    {
     "name": "stdout",
     "output_type": "stream",
     "text": [
      "====================================================================================================\n",
      "Test confusion matrix\n",
      "the maximum value of tpr*(1-fpr) 0.3717648320041052 for threshold 0.745\n",
      "Confusion matrix, without normalization\n",
      "Normalized confusion matrix\n"
     ]
    },
    {
     "data": {
      "image/png": "[encoded data removed]",
      "text/plain": [
       "<Figure size 432x288 with 2 Axes>"
      ]
     },
     "metadata": {
      "needs_background": "light"
     },
     "output_type": "display_data"
    },
    {
     "data": {
      "image/png": "[encoded data removed]",
      "text/plain": [
       "<Figure size 432x288 with 2 Axes>"
      ]
     },
     "metadata": {
      "needs_background": "light"
     },
     "output_type": "display_data"
    },
    {
     "name": "stdout",
     "output_type": "stream",
     "text": [
      "**********************************************************************\n"
     ]
    }
   ],
   "source": [
    "print(\"=\"*100)\n",
    "print(\"Test confusion matrix\")\n",
    "compute_confusion_matrix(y_test, y_test_pred, thresh, fpr_test, tpr_test)"
   ]
  },
  {
   "cell_type": "markdown",
   "metadata": {},
   "source": [
    "<h3>Observations</h3>\n",
    "\n",
    "* We get k=51 as best value of k.\n",
    "* Our model's AUC is very close to that of a random model.\n"
   ]
  },
  {
   "cell_type": "markdown",
   "metadata": {
    "colab_type": "text",
    "id": "oq3NW2CbCyp3"
   },
   "source": [
    "## Set 3: categorical, numerical features + project_title(AVG W2V)+ preprocessed_essay (AVG W2V)\n",
    "### 2.4.3 Applying KNN brute force on AVG W2V,<font color='red'> SET 3</font>"
   ]
  },
  {
   "cell_type": "code",
   "execution_count": 98,
   "metadata": {},
   "outputs": [],
   "source": [
    "# Please write all the code with proper documentation\n",
    "\n",
    "X_train_set3 = hstack((categories_one_hot_train, sub_categories_one_hot_train,\n",
    "           school_state_one_hot_train, teacher_prefix_one_hot_train,\n",
    "           project_grade_category_one_hot_train, price_train, quantity_train,\n",
    "           prev_teacher_proj_train, title_word_count_train, essay_word_count_train,\n",
    "           essay_avg_w2v_train, title_avg_w2v_train)).tocsr()\n",
    "\n",
    "X_cv_set3 = hstack((categories_one_hot_cv, sub_categories_one_hot_cv,\n",
    "           school_state_one_hot_cv, teacher_prefix_one_hot_cv,\n",
    "           project_grade_category_one_hot_cv, price_cv, quantity_cv,\n",
    "           prev_teacher_proj_cv, title_word_count_cv, essay_word_count_cv,\n",
    "           essay_avg_w2v_cv, title_avg_w2v_cv)).tocsr()\n",
    "\n",
    "X_test_set3 = hstack((categories_one_hot_test, sub_categories_one_hot_test,\n",
    "           school_state_one_hot_test, teacher_prefix_one_hot_test,\n",
    "           project_grade_category_one_hot_test, price_test, quantity_test,\n",
    "           prev_teacher_proj_test, title_word_count_test, essay_word_count_test,\n",
    "           essay_avg_w2v_test, title_avg_w2v_test)).tocsr()"
   ]
  },
  {
   "cell_type": "code",
   "execution_count": 99,
   "metadata": {},
   "outputs": [
    {
     "name": "stdout",
     "output_type": "stream",
     "text": [
      "Final Data matrix for set3\n",
      "(38746, 704) (38746,)\n",
      "(9687, 704) (9687,)\n",
      "(12109, 704) (12109,)\n",
      "====================================================================================================\n"
     ]
    }
   ],
   "source": [
    "print(\"Final Data matrix for set3\")\n",
    "print(X_train_set3.shape, y_train.shape)\n",
    "print(X_cv_set3.shape, y_cv.shape)\n",
    "print(X_test_set3.shape, y_test.shape)\n",
    "print(\"=\"*100)"
   ]
  },
  {
   "cell_type": "markdown",
   "metadata": {},
   "source": [
    "## A) Find the best hyper parameter which results in the maximum AUC value\n"
   ]
  },
  {
   "cell_type": "code",
   "execution_count": 100,
   "metadata": {},
   "outputs": [
    {
     "name": "stderr",
     "output_type": "stream",
     "text": [
      "100%|██████████| 8/8 [3:47:18<00:00, 1686.96s/it]  "
     ]
    },
    {
     "name": "stdout",
     "output_type": "stream",
     "text": [
      "\n",
      "The optimal number of neighbors is 51.\n"
     ]
    },
    {
     "name": "stderr",
     "output_type": "stream",
     "text": [
      "\n"
     ]
    },
    {
     "data": {
      "image/png": "[encoded data removed]",
      "text/plain": [
       "<Figure size 432x288 with 1 Axes>"
      ]
     },
     "metadata": {
      "needs_background": "light"
     },
     "output_type": "display_data"
    }
   ],
   "source": [
    "\n",
    "best_k_set3, train_auc, cv_auc = find_best_k_using_auc(X_train_set3, y_train, X_cv_set3, y_cv)\n",
    "\n",
    "# plot showing performance of model both on train data and cross validation data for each hyper parameter\n",
    "plot_k_vs_roc(train_auc, cv_auc)"
   ]
  },
  {
   "cell_type": "markdown",
   "metadata": {},
   "source": [
    "## B) Train model with best hyper-parameter value"
   ]
  },
  {
   "cell_type": "code",
   "execution_count": 101,
   "metadata": {},
   "outputs": [],
   "source": [
    "knn = KNeighborsClassifier(best_k_set3)\n",
    "knn.fit(X_train_set3,y_train)\n",
    "\n",
    "# print(X_test_set1)\n",
    "y_train_pred = batch_predict( knn, X_train_set3)\n",
    "y_test_pred = batch_predict( knn, X_test_set3)\n",
    "\n",
    "\n",
    "fpr_train, tpr_train, thresh1 = roc_curve(y_train, y_train_pred)\n",
    "fpr_test, tpr_test, thresh = roc_curve(y_test, y_test_pred)\n",
    "\n",
    "test_auc_set3 = roc_auc_score(y_test, y_test_pred)\n"
   ]
  },
  {
   "cell_type": "code",
   "execution_count": 102,
   "metadata": {},
   "outputs": [
    {
     "data": {
      "image/png": "[encoded data removed]",
      "text/plain": [
       "<Figure size 432x288 with 1 Axes>"
      ]
     },
     "metadata": {
      "needs_background": "light"
     },
     "output_type": "display_data"
    }
   ],
   "source": [
    "plt.plot(fpr_train,tpr_train, label='Train ROC, AUC ='+str(auc(fpr_train, tpr_train)));\n",
    "plt.plot(fpr_test,tpr_test, label='Test ROC, AUC ='+str(auc(fpr_test, tpr_test)))\n",
    "plt.xlabel('False Positive Rate (FPR)') \n",
    "plt.ylabel(\"True Positive Rate (TPR)\")\n",
    "plt.title('Plot of FPR vs TPR')    \n",
    "plt.legend()\n",
    "plt.show()"
   ]
  },
  {
   "cell_type": "markdown",
   "metadata": {},
   "source": [
    "## D) Confusion Matrix\n",
    "\n",
    "### Train Set\n",
    "\n"
   ]
  },
  {
   "cell_type": "code",
   "execution_count": 103,
   "metadata": {},
   "outputs": [
    {
     "name": "stdout",
     "output_type": "stream",
     "text": [
      "====================================================================================================\n",
      "Train confusion matrix\n",
      "the maximum value of tpr*(1-fpr) 0.43441675591645057 for threshold 0.725\n",
      "Confusion matrix, without normalization\n",
      "Normalized confusion matrix\n"
     ]
    },
    {
     "data": {
      "image/png": "[encoded data removed]",
      "text/plain": [
       "<Figure size 432x288 with 2 Axes>"
      ]
     },
     "metadata": {
      "needs_background": "light"
     },
     "output_type": "display_data"
    },
    {
     "data": {
      "image/png": "[encoded data removed]",
      "text/plain": [
       "<Figure size 432x288 with 2 Axes>"
      ]
     },
     "metadata": {
      "needs_background": "light"
     },
     "output_type": "display_data"
    },
    {
     "name": "stdout",
     "output_type": "stream",
     "text": [
      "**********************************************************************\n"
     ]
    }
   ],
   "source": [
    "# computa and plot confusion matrix for train data\n",
    "print(\"=\"*100)\n",
    "print(\"Train confusion matrix\")\n",
    "compute_confusion_matrix(y_train, y_train_pred, thresh1, fpr_train, tpr_train)"
   ]
  },
  {
   "cell_type": "markdown",
   "metadata": {},
   "source": [
    "### Test Set"
   ]
  },
  {
   "cell_type": "code",
   "execution_count": 104,
   "metadata": {},
   "outputs": [
    {
     "name": "stdout",
     "output_type": "stream",
     "text": [
      "====================================================================================================\n",
      "Test confusion matrix\n",
      "the maximum value of tpr*(1-fpr) 0.3911758739907329 for threshold 0.725\n",
      "Confusion matrix, without normalization\n",
      "Normalized confusion matrix\n"
     ]
    },
    {
     "data": {
      "image/png": "[encoded data removed]",
      "text/plain": [
       "<Figure size 432x288 with 2 Axes>"
      ]
     },
     "metadata": {
      "needs_background": "light"
     },
     "output_type": "display_data"
    },
    {
     "data": {
      "image/png": "[encoded data removed]",
      "text/plain": [
       "<Figure size 432x288 with 2 Axes>"
      ]
     },
     "metadata": {
      "needs_background": "light"
     },
     "output_type": "display_data"
    },
    {
     "name": "stdout",
     "output_type": "stream",
     "text": [
      "**********************************************************************\n"
     ]
    }
   ],
   "source": [
    "print(\"=\"*100)\n",
    "print(\"Test confusion matrix\")\n",
    "compute_confusion_matrix(y_test, y_test_pred, thresh, fpr_test, tpr_test)"
   ]
  },
  {
   "cell_type": "markdown",
   "metadata": {},
   "source": [
    "<h3>Observations</h3>\n",
    "\n",
    "* We get k=51 as best value of k."
   ]
  },
  {
   "cell_type": "markdown",
   "metadata": {
    "colab_type": "text",
    "id": "TJLjbsNYCyp5"
   },
   "source": [
    "##  Set 4: categorical, numerical features + project_title(TFIDF W2V)+ preprocessed_essay (TFIDF W2V)\n",
    "### 2.4.4 Applying KNN brute force on TFIDF W2V,<font color='red'> SET 4</font>"
   ]
  },
  {
   "cell_type": "code",
   "execution_count": 105,
   "metadata": {},
   "outputs": [],
   "source": [
    "# Please write all the code with proper documentation\n",
    "\n",
    "essay_tfidf_w2v_train\n",
    "\n",
    "\n",
    "X_train_set4 = hstack((categories_one_hot_train, sub_categories_one_hot_train,\n",
    "           school_state_one_hot_train, teacher_prefix_one_hot_train,\n",
    "           project_grade_category_one_hot_train, price_train, quantity_train,\n",
    "           prev_teacher_proj_train, title_word_count_train, essay_word_count_train,\n",
    "           essay_tfidf_w2v_train, title_tfidf_w2v_train)).tocsr()\n",
    "\n",
    "X_cv_set4 = hstack((categories_one_hot_cv, sub_categories_one_hot_cv,\n",
    "           school_state_one_hot_cv, teacher_prefix_one_hot_cv,\n",
    "           project_grade_category_one_hot_cv, price_cv, quantity_cv,\n",
    "           prev_teacher_proj_cv, title_word_count_cv, essay_word_count_cv,\n",
    "           essay_tfidf_w2v_cv, title_tfidf_w2v_cv)).tocsr()\n",
    "\n",
    "X_test_set4 = hstack((categories_one_hot_test, sub_categories_one_hot_test,\n",
    "           school_state_one_hot_test, teacher_prefix_one_hot_test,\n",
    "           project_grade_category_one_hot_test, price_test, quantity_test,\n",
    "           prev_teacher_proj_test, title_word_count_test, essay_word_count_test,\n",
    "           essay_tfidf_w2v_test, title_tfidf_w2v_test)).tocsr()"
   ]
  },
  {
   "cell_type": "code",
   "execution_count": 106,
   "metadata": {},
   "outputs": [
    {
     "name": "stdout",
     "output_type": "stream",
     "text": [
      "Final Data matrix for set4\n",
      "(38746, 704) (38746,)\n",
      "(9687, 704) (9687,)\n",
      "(12109, 704) (12109,)\n",
      "====================================================================================================\n"
     ]
    }
   ],
   "source": [
    "print(\"Final Data matrix for set4\")\n",
    "print(X_train_set4.shape, y_train.shape)\n",
    "print(X_cv_set4.shape, y_cv.shape)\n",
    "print(X_test_set4.shape, y_test.shape)\n",
    "print(\"=\"*100)"
   ]
  },
  {
   "cell_type": "markdown",
   "metadata": {},
   "source": [
    "## A) Find the best hyper parameter which results in the maximum AUC value"
   ]
  },
  {
   "cell_type": "code",
   "execution_count": 107,
   "metadata": {},
   "outputs": [
    {
     "name": "stderr",
     "output_type": "stream",
     "text": [
      "100%|██████████| 8/8 [4:20:29<00:00, 2001.25s/it]  \n"
     ]
    },
    {
     "name": "stdout",
     "output_type": "stream",
     "text": [
      "\n",
      "The optimal number of neighbors is 51.\n"
     ]
    },
    {
     "data": {
      "image/png": "[encoded data removed]",
      "text/plain": [
       "<Figure size 432x288 with 1 Axes>"
      ]
     },
     "metadata": {
      "needs_background": "light"
     },
     "output_type": "display_data"
    }
   ],
   "source": [
    "\n",
    "best_k_set4, train_auc, cv_auc = find_best_k_using_auc(X_train_set4, y_train, X_cv_set4, y_cv)\n",
    "\n",
    "# plot showing performance of model both on train data and cross validation data for each hyper parameter\n",
    "plot_k_vs_roc(train_auc, cv_auc)"
   ]
  },
  {
   "cell_type": "markdown",
   "metadata": {},
   "source": [
    "## B) Train model with best hyper-parameter value"
   ]
  },
  {
   "cell_type": "code",
   "execution_count": 108,
   "metadata": {},
   "outputs": [],
   "source": [
    "knn = KNeighborsClassifier(best_k_set4)\n",
    "knn.fit(X_train_set4,y_train)\n",
    "\n",
    "# print(X_test_set1)\n",
    "y_train_pred = batch_predict( knn, X_train_set4)\n",
    "y_test_pred = batch_predict( knn, X_test_set4)\n",
    "\n",
    "\n",
    "fpr_train, tpr_train, thresh1 = roc_curve(y_train, y_train_pred)\n",
    "fpr_test, tpr_test, thresh = roc_curve(y_test, y_test_pred)\n",
    "test_auc_set4 = roc_auc_score(y_test, y_test_pred)\n"
   ]
  },
  {
   "cell_type": "code",
   "execution_count": 109,
   "metadata": {},
   "outputs": [
    {
     "data": {
      "image/png": "[encoded data removed]",
      "text/plain": [
       "<Figure size 432x288 with 1 Axes>"
      ]
     },
     "metadata": {
      "needs_background": "light"
     },
     "output_type": "display_data"
    }
   ],
   "source": [
    "plt.plot(fpr_train,tpr_train, label='Train ROC, AUC ='+str(auc(fpr_train, tpr_train)));\n",
    "plt.plot(fpr_test,tpr_test, label='Test ROC, AUC ='+str(auc(fpr_test, tpr_test)))\n",
    "plt.xlabel('False Positive Rate (FPR)') \n",
    "plt.ylabel(\"True Positive Rate (TPR)\")\n",
    "plt.title('Plot of FPR vs TPR')    \n",
    "plt.legend()\n",
    "plt.show()"
   ]
  },
  {
   "cell_type": "markdown",
   "metadata": {},
   "source": [
    "## D) Confusion Matrix\n",
    "### Train Set"
   ]
  },
  {
   "cell_type": "code",
   "execution_count": 110,
   "metadata": {},
   "outputs": [
    {
     "name": "stdout",
     "output_type": "stream",
     "text": [
      "====================================================================================================\n",
      "Train confusion matrix\n",
      "the maximum value of tpr*(1-fpr) 0.44426683794831107 for threshold 0.725\n",
      "Confusion matrix, without normalization\n",
      "Normalized confusion matrix\n"
     ]
    },
    {
     "data": {
      "image/png": "[encoded data removed]",
      "text/plain": [
       "<Figure size 432x288 with 2 Axes>"
      ]
     },
     "metadata": {
      "needs_background": "light"
     },
     "output_type": "display_data"
    },
    {
     "data": {
      "image/png": "[encoded data removed]",
      "text/plain": [
       "<Figure size 432x288 with 2 Axes>"
      ]
     },
     "metadata": {
      "needs_background": "light"
     },
     "output_type": "display_data"
    },
    {
     "name": "stdout",
     "output_type": "stream",
     "text": [
      "**********************************************************************\n"
     ]
    }
   ],
   "source": [
    "# computa and plot confusion matrix for train data\n",
    "print(\"=\"*100)\n",
    "print(\"Train confusion matrix\")\n",
    "compute_confusion_matrix(y_train, y_train_pred, thresh1, fpr_train, tpr_train)"
   ]
  },
  {
   "cell_type": "markdown",
   "metadata": {},
   "source": [
    "### Test Set"
   ]
  },
  {
   "cell_type": "code",
   "execution_count": 111,
   "metadata": {},
   "outputs": [
    {
     "name": "stdout",
     "output_type": "stream",
     "text": [
      "====================================================================================================\n",
      "Test confusion matrix\n",
      "the maximum value of tpr*(1-fpr) 0.39760573658388465 for threshold 0.725\n",
      "Confusion matrix, without normalization\n",
      "Normalized confusion matrix\n"
     ]
    },
    {
     "data": {
      "image/png": "[encoded data removed]",
      "text/plain": [
       "<Figure size 432x288 with 2 Axes>"
      ]
     },
     "metadata": {
      "needs_background": "light"
     },
     "output_type": "display_data"
    },
    {
     "data": {
      "image/png": "[encoded data removed]",
      "text/plain": [
       "<Figure size 432x288 with 2 Axes>"
      ]
     },
     "metadata": {
      "needs_background": "light"
     },
     "output_type": "display_data"
    },
    {
     "name": "stdout",
     "output_type": "stream",
     "text": [
      "**********************************************************************\n"
     ]
    }
   ],
   "source": [
    "print(\"=\"*100)\n",
    "print(\"Test confusion matrix\")\n",
    "compute_confusion_matrix(y_test, y_test_pred, thresh, fpr_test, tpr_test)"
   ]
  },
  {
   "cell_type": "markdown",
   "metadata": {},
   "source": [
    "<h3>Observations</h3>\n",
    "\n",
    "* We get k=51 as best value of k.\n",
    "* Our model's AUC is very close to that of a random model."
   ]
  },
  {
   "cell_type": "markdown",
   "metadata": {
    "colab_type": "text",
    "id": "G60n-gK8Cyp7"
   },
   "source": [
    "<h2>2.5 Feature selection with `SelectKBest` </h2>"
   ]
  },
  {
   "cell_type": "code",
   "execution_count": 112,
   "metadata": {},
   "outputs": [],
   "source": [
    "from sklearn.datasets import load_digits\n",
    "from sklearn.feature_selection import SelectKBest, chi2\n",
    "\n",
    "X_train_set2 = hstack((categories_one_hot_train, sub_categories_one_hot_train,\n",
    "           school_state_one_hot_train, teacher_prefix_one_hot_train,\n",
    "           project_grade_category_one_hot_train, price_train, quantity_train,\n",
    "           prev_teacher_proj_train, title_word_count_train, essay_word_count_train,\n",
    "           essay_tfidf_train, title_tfidf_train)).tocsr()\n",
    "\n",
    "X_cv_set2 = hstack((categories_one_hot_cv, sub_categories_one_hot_cv,\n",
    "           school_state_one_hot_cv, teacher_prefix_one_hot_cv,\n",
    "           project_grade_category_one_hot_cv, price_cv, quantity_cv,\n",
    "           prev_teacher_proj_cv, title_word_count_cv, essay_word_count_cv,\n",
    "           essay_tfidf_cv, title_tfidf_cv)).tocsr()\n",
    "\n",
    "X_test_set2 = hstack((categories_one_hot_test, sub_categories_one_hot_test,\n",
    "           school_state_one_hot_test, teacher_prefix_one_hot_test,\n",
    "           project_grade_category_one_hot_test, price_test, quantity_test,\n",
    "           prev_teacher_proj_test, title_word_count_test, essay_word_count_test,\n",
    "           essay_tfidf_test, title_tfidf_test)).tocsr()\n",
    "\n",
    "\n",
    "\n",
    "best_feat_vect = SelectKBest(chi2, k=2000).fit(X_train_set2, y_train)\n",
    "\n",
    "X_train_top2000 =  best_feat_vect.transform(X_train_set2)\n",
    "\n",
    "X_cv_top2000 = best_feat_vect.transform(X_cv_set2)\n",
    "\n",
    "X_test_top2000 = best_feat_vect.transform(X_test_set2)"
   ]
  },
  {
   "cell_type": "code",
   "execution_count": 113,
   "metadata": {},
   "outputs": [
    {
     "name": "stdout",
     "output_type": "stream",
     "text": [
      "Final Data matrix for set5\n",
      "(38746, 2000) (38746,)\n",
      "(9687, 2000) (9687,)\n",
      "(12109, 2000) (12109,)\n",
      "====================================================================================================\n"
     ]
    }
   ],
   "source": [
    "print(\"Final Data matrix for set5\")\n",
    "print(X_train_top2000.shape, y_train.shape)\n",
    "print(X_cv_top2000.shape, y_cv.shape)\n",
    "print(X_test_top2000.shape, y_test.shape)\n",
    "print(\"=\"*100)"
   ]
  },
  {
   "cell_type": "markdown",
   "metadata": {},
   "source": [
    "## A) Find the best hyper parameter which results in the maximum AUC value"
   ]
  },
  {
   "cell_type": "code",
   "execution_count": 114,
   "metadata": {},
   "outputs": [
    {
     "name": "stderr",
     "output_type": "stream",
     "text": [
      "100%|██████████| 8/8 [13:55<00:00, 104.13s/it]"
     ]
    },
    {
     "name": "stdout",
     "output_type": "stream",
     "text": [
      "\n",
      "The optimal number of neighbors is 51.\n"
     ]
    },
    {
     "name": "stderr",
     "output_type": "stream",
     "text": [
      "\n"
     ]
    },
    {
     "data": {
      "image/png": "[encoded data removed]",
      "text/plain": [
       "<Figure size 432x288 with 1 Axes>"
      ]
     },
     "metadata": {
      "needs_background": "light"
     },
     "output_type": "display_data"
    }
   ],
   "source": [
    "\n",
    "best_k_set_top2000, train_auc, cv_auc = find_best_k_using_auc(X_train_top2000, y_train, X_cv_top2000, y_cv)\n",
    "\n",
    "# plot showing performance of model both on train data and cross validation data for each hyper parameter\n",
    "plot_k_vs_roc(train_auc, cv_auc)"
   ]
  },
  {
   "cell_type": "markdown",
   "metadata": {},
   "source": [
    "## B) Train model with best hyper-parameter value"
   ]
  },
  {
   "cell_type": "code",
   "execution_count": 115,
   "metadata": {},
   "outputs": [],
   "source": [
    "knn = KNeighborsClassifier(best_k_set_top2000)\n",
    "knn.fit(X_train_top2000,y_train)\n",
    "\n",
    "# print(X_test_set1)\n",
    "y_train_pred = batch_predict( knn, X_train_top2000)\n",
    "y_test_pred = batch_predict( knn, X_test_top2000)\n",
    "\n",
    "\n",
    "fpr_train, tpr_train, thresh1 = roc_curve(y_train, y_train_pred)\n",
    "fpr_test, tpr_test, thresh = roc_curve(y_test, y_test_pred)\n",
    "test_auc_top2000 = roc_auc_score(y_test, y_test_pred)\n"
   ]
  },
  {
   "cell_type": "code",
   "execution_count": 116,
   "metadata": {},
   "outputs": [
    {
     "data": {
      "image/png": "[encoded data removed]",
      "text/plain": [
       "<Figure size 432x288 with 1 Axes>"
      ]
     },
     "metadata": {
      "needs_background": "light"
     },
     "output_type": "display_data"
    }
   ],
   "source": [
    "plt.plot(fpr_train,tpr_train, label='Train ROC, AUC ='+str(auc(fpr_train, tpr_train)));\n",
    "plt.plot(fpr_test,tpr_test, label='Test ROC, AUC ='+str(auc(fpr_test, tpr_test)))\n",
    "plt.xlabel('False Positive Rate (FPR)') \n",
    "plt.ylabel(\"True Positive Rate (TPR)\")\n",
    "plt.title('Plot of FPR vs TPR')    \n",
    "plt.legend()\n",
    "plt.show()"
   ]
  },
  {
   "cell_type": "markdown",
   "metadata": {},
   "source": [
    "## D) Confusion Matrix\n",
    "\n",
    "### Train Set"
   ]
  },
  {
   "cell_type": "code",
   "execution_count": 117,
   "metadata": {},
   "outputs": [
    {
     "name": "stdout",
     "output_type": "stream",
     "text": [
      "====================================================================================================\n",
      "Train confusion matrix\n",
      "the maximum value of tpr*(1-fpr) 0.4254354854453352 for threshold 0.725\n",
      "Confusion matrix, without normalization\n",
      "Normalized confusion matrix\n"
     ]
    },
    {
     "data": {
      "image/png": "[encoded data removed]",
      "text/plain": [
       "<Figure size 432x288 with 2 Axes>"
      ]
     },
     "metadata": {
      "needs_background": "light"
     },
     "output_type": "display_data"
    },
    {
     "data": {
      "image/png": "[encoded data removed]",
      "text/plain": [
       "<Figure size 432x288 with 2 Axes>"
      ]
     },
     "metadata": {
      "needs_background": "light"
     },
     "output_type": "display_data"
    },
    {
     "name": "stdout",
     "output_type": "stream",
     "text": [
      "**********************************************************************\n"
     ]
    }
   ],
   "source": [
    "# computa and plot confusion matrix for train data\n",
    "\n",
    "print(\"=\"*100)\n",
    "print(\"Train confusion matrix\")\n",
    "compute_confusion_matrix(y_train, y_train_pred, thresh1, fpr_train, tpr_train)"
   ]
  },
  {
   "cell_type": "markdown",
   "metadata": {},
   "source": [
    "### Test Set"
   ]
  },
  {
   "cell_type": "code",
   "execution_count": 118,
   "metadata": {},
   "outputs": [
    {
     "name": "stdout",
     "output_type": "stream",
     "text": [
      "====================================================================================================\n",
      "Test confusion matrix\n",
      "the maximum value of tpr*(1-fpr) 0.3795881699044705 for threshold 0.745\n",
      "Confusion matrix, without normalization\n",
      "Normalized confusion matrix\n"
     ]
    },
    {
     "data": {
      "image/png": "[encoded data removed]",
      "text/plain": [
       "<Figure size 432x288 with 2 Axes>"
      ]
     },
     "metadata": {
      "needs_background": "light"
     },
     "output_type": "display_data"
    },
    {
     "data": {
      "image/png": "[encoded data removed]",
      "text/plain": [
       "<Figure size 432x288 with 2 Axes>"
      ]
     },
     "metadata": {
      "needs_background": "light"
     },
     "output_type": "display_data"
    },
    {
     "name": "stdout",
     "output_type": "stream",
     "text": [
      "**********************************************************************\n"
     ]
    }
   ],
   "source": [
    "print(\"=\"*100)\n",
    "print(\"Test confusion matrix\")\n",
    "compute_confusion_matrix(y_test, y_test_pred, thresh, fpr_test, tpr_test)"
   ]
  },
  {
   "cell_type": "markdown",
   "metadata": {},
   "source": [
    "<h3>Observations</h3>\n",
    "\n",
    "* We get k=51 as best k value\n",
    "* After selecting Top 2000 features from TFIDF, our test AUC is almost same to that of TFIDF without feature selection."
   ]
  },
  {
   "cell_type": "markdown",
   "metadata": {
    "colab_type": "text",
    "id": "bemispVtCyp-"
   },
   "source": [
    "<h1>3. Conclusions</h1>"
   ]
  },
  {
   "cell_type": "code",
   "execution_count": 120,
   "metadata": {},
   "outputs": [
    {
     "name": "stdout",
     "output_type": "stream",
     "text": [
      "+----------------------+-------+-----------------+--------------------+\n",
      "|      Vectorizer      | Model | Hyper Parameter |        AUC         |\n",
      "+----------------------+-------+-----------------+--------------------+\n",
      "|         BOW          | Brute |        41       | 0.661702247205533  |\n",
      "|        TFIDF         | Brute |        51       | 0.6629128269655413 |\n",
      "|         W2V          | Brute |        51       | 0.6741644998093329 |\n",
      "|       TFIDFW2V       | Brute |        51       | 0.6806738467156075 |\n",
      "| TFIDF(2000 features) | Brute |        51       | 0.6651549852275497 |\n",
      "+----------------------+-------+-----------------+--------------------+\n"
     ]
    }
   ],
   "source": [
    "from prettytable import PrettyTable\n",
    "    \n",
    "x = PrettyTable()\n",
    "\n",
    "x.field_names = [\"Vectorizer\", \"Model\", \"Hyper Parameter\", \"AUC\"]\n",
    "\n",
    "x.add_row([\"BOW\", 'Brute', best_k_set1, test_auc_set1])\n",
    "x.add_row([\"TFIDF\", 'Brute', best_k_set2, test_auc_set2])\n",
    "x.add_row([\"W2V\", 'Brute', best_k_set3, test_auc_set3])\n",
    "x.add_row([\"TFIDFW2V\", 'Brute', best_k_set4, test_auc_set4])\n",
    "x.add_row([\"TFIDF(2000 features)\", 'Brute', best_k_set_top2000, test_auc_top2000])\n",
    "\n",
    "print(x)"
   ]
  },
  {
   "cell_type": "markdown",
   "metadata": {},
   "source": [
    "<h3>Observations</h3>\n",
    "\n",
    "* Based on above table, we can see that TFIDF Word To Vector has slight higher test AUC than others (This may be because we have taken only 64K points due to RAM limit)\n",
    "* After selecting Top 2000 features from TFIDF, our test AUC is almost same to that of TFIDF without feature selection..\n",
    "* Test AUC of almost all the models is very close to that of random model."
   ]
  },
  {
   "cell_type": "code",
   "execution_count": null,
   "metadata": {},
   "outputs": [],
   "source": []
  }
 ],
 "metadata": {
  "colab": {
   "collapsed_sections": [
    "0d0QeeQ-CyoD",
    "5YnkzKnmCyoN",
    "W544CoFtCyoN",
    "gK_SHRpTCyol",
    "YHwGesZUCyo1",
    "_s3QN_ZNCypD",
    "B1dIm8PiCypw",
    "s85gPOAbCyp1",
    "oq3NW2CbCyp3",
    "TJLjbsNYCyp5"
   ],
   "name": "3_DonorsChoose_KNN.ipynb",
   "provenance": [],
   "version": "0.3.2"
  },
  "kernelspec": {
   "display_name": "Python 3",
   "language": "python",
   "name": "python3"
  },
  "language_info": {
   "codemirror_mode": {
    "name": "ipython",
    "version": 3
   },
   "file_extension": ".py",
   "mimetype": "text/x-python",
   "name": "python",
   "nbconvert_exporter": "python",
   "pygments_lexer": "ipython3",
   "version": "3.7.4"
  },
  "widgets": {
   "state": {},
   "version": "1.1.2"
  }
 },
 "nbformat": 4,
 "nbformat_minor": 1
}
